{
 "cells": [
  {
   "cell_type": "code",
   "execution_count": 1,
   "metadata": {},
   "outputs": [],
   "source": [
    "from lib import get_data\n",
    "from pathlib import Path\n",
    "import pandas as pd\n",
    "import numpy as np\n",
    "import matplotlib.pyplot as plt\n",
    "\n",
    "from sklearn.pipeline import make_pipeline\n",
    "from sklearn.preprocessing import StandardScaler\n",
    "from sklearn.feature_extraction import DictVectorizer\n",
    "from sklearn.linear_model import LogisticRegression\n",
    "from sklearn.metrics import roc_auc_score"
   ]
  },
  {
   "cell_type": "markdown",
   "metadata": {},
   "source": [
    "### Get data"
   ]
  },
  {
   "cell_type": "code",
   "execution_count": 2,
   "metadata": {},
   "outputs": [
    {
     "name": "stdout",
     "output_type": "stream",
     "text": [
      "../../data\n"
     ]
    }
   ],
   "source": [
    "PATH = Path('../../data/')\n",
    "print(PATH)\n",
    "#df = get_data.load_data(PATH)\n",
    "\n",
    "### Cargo el Test\n",
    "\n",
    "df = get_data.load_data(PATH)"
   ]
  },
  {
   "cell_type": "markdown",
   "metadata": {},
   "source": [
    "# Prepare data\n"
   ]
  },
  {
   "cell_type": "markdown",
   "metadata": {},
   "source": [
    "## Pre-processing: antes de agrupar"
   ]
  },
  {
   "cell_type": "markdown",
   "metadata": {},
   "source": [
    "### Variables monto:\n",
    "        * pasar todo a dolares (ya incluido en la carga)\n",
    "        * completar valores 0/NaN de Total_Amount con : TRF * ASP_(converted) | mediana "
   ]
  },
  {
   "cell_type": "markdown",
   "metadata": {},
   "source": [
    "#### completar valores 0/NaN de Total_Amount con : TRF * ASP_(converted) | mediana "
   ]
  },
  {
   "cell_type": "code",
   "execution_count": 3,
   "metadata": {},
   "outputs": [
    {
     "data": {
      "text/plain": [
       "0"
      ]
     },
     "execution_count": 3,
     "metadata": {},
     "output_type": "execute_result"
    }
   ],
   "source": [
    "# check cuantos valores con cero hay\n",
    "df.loc[df['Total_Amount'] == 0,].shape[0] # 52\n",
    "\n",
    "# check cuantos valores con cero hay\n",
    "df['Total_Amount'].isna().sum() # 59"
   ]
  },
  {
   "cell_type": "code",
   "execution_count": 4,
   "metadata": {},
   "outputs": [
    {
     "data": {
      "text/plain": [
       "0"
      ]
     },
     "execution_count": 4,
     "metadata": {},
     "output_type": "execute_result"
    }
   ],
   "source": [
    "# reemplazo nan por cero\n",
    "df['Total_Amount'].replace(np.nan, 0,  inplace=True)\n",
    "df.loc[df['Total_Amount'] == 0,].shape[0] # 111"
   ]
  },
  {
   "cell_type": "code",
   "execution_count": 5,
   "metadata": {},
   "outputs": [],
   "source": [
    "def completed_cero_Total_Amounts(df):\n",
    "    \n",
    "\n",
    "    df['price_trf'] = df['ASP_(converted)'] * df['TRF'] * 1000000\n",
    "    # reemplazo nan por cero\n",
    "    df['price_trf'].replace(np.nan, 0,  inplace=True)\n",
    "    \n",
    "    # asigno a cada product_name la mediana\n",
    "    df['product_median_amount'] = df.groupby('Product_Name')['Total_Amount'].transform('median')\n",
    "    # reemplazo nan por cero\n",
    "    df['product_median_amount'].replace(np.nan, 0,  inplace=True)\n",
    "\n",
    "    \n",
    "    rows = []\n",
    "    \n",
    "    for idx, row in df.iterrows():\n",
    "        if row['Total_Amount'] == 0:\n",
    "            if row['price_trf'] != 0:\n",
    "                rows.append(row['price_trf'])\n",
    "            else:\n",
    "                rows.append(row['product_median_amount'])\n",
    "        else:\n",
    "            rows.append(row['Total_Amount'])\n",
    "    \n",
    "    # elimino columnas\n",
    "    df.drop(['price_trf', 'product_median_amount'], axis=1, inplace=True)\n",
    "    \n",
    "            \n",
    "    return pd.Series(rows)\n",
    "    "
   ]
  },
  {
   "cell_type": "code",
   "execution_count": 6,
   "metadata": {},
   "outputs": [],
   "source": [
    "df['Total_Amount'] = completed_cero_Total_Amounts(df)"
   ]
  },
  {
   "cell_type": "code",
   "execution_count": 7,
   "metadata": {},
   "outputs": [
    {
     "data": {
      "text/html": [
       "<div>\n",
       "<style scoped>\n",
       "    .dataframe tbody tr th:only-of-type {\n",
       "        vertical-align: middle;\n",
       "    }\n",
       "\n",
       "    .dataframe tbody tr th {\n",
       "        vertical-align: top;\n",
       "    }\n",
       "\n",
       "    .dataframe thead th {\n",
       "        text-align: right;\n",
       "    }\n",
       "</style>\n",
       "<table border=\"1\" class=\"dataframe\">\n",
       "  <thead>\n",
       "    <tr style=\"text-align: right;\">\n",
       "      <th></th>\n",
       "      <th>ID</th>\n",
       "      <th>Region</th>\n",
       "      <th>Territory</th>\n",
       "      <th>Pricing, Delivery_Terms_Quote_Appr</th>\n",
       "      <th>Pricing, Delivery_Terms_Approved</th>\n",
       "      <th>Bureaucratic_Code_0_Approval</th>\n",
       "      <th>Bureaucratic_Code_0_Approved</th>\n",
       "      <th>Submitted_for_Approval</th>\n",
       "      <th>Bureaucratic_Code</th>\n",
       "      <th>Account_Created_Date</th>\n",
       "      <th>...</th>\n",
       "      <th>Month</th>\n",
       "      <th>Delivery_Quarter</th>\n",
       "      <th>Delivery_Year</th>\n",
       "      <th>Actual_Delivery_Date</th>\n",
       "      <th>TRF</th>\n",
       "      <th>Total_Amount_Currency</th>\n",
       "      <th>Total_Amount</th>\n",
       "      <th>Total_Taxable_Amount_Currency</th>\n",
       "      <th>Total_Taxable_Amount</th>\n",
       "      <th>Prod_Category_A</th>\n",
       "    </tr>\n",
       "  </thead>\n",
       "  <tbody>\n",
       "  </tbody>\n",
       "</table>\n",
       "<p>0 rows × 51 columns</p>\n",
       "</div>"
      ],
      "text/plain": [
       "Empty DataFrame\n",
       "Columns: [ID, Region, Territory, Pricing, Delivery_Terms_Quote_Appr, Pricing, Delivery_Terms_Approved, Bureaucratic_Code_0_Approval, Bureaucratic_Code_0_Approved, Submitted_for_Approval, Bureaucratic_Code, Account_Created_Date, Source , Billing_Country, Account_Name, Opportunity_Name, Opportunity_ID, Sales_Contract_No, Account_Owner, Opportunity_Owner, Account_Type, Opportunity_Type, Quote_Type, Delivery_Terms, Opportunity_Created_Date, Brand, Product_Type, Size, Product_Category_B, Price, Currency, Last_Activity, Quote_Expiry_Date, Last_Modified_Date, Last_Modified_By, Product_Family, Product_Name, ASP_Currency, ASP, ASP_(converted)_Currency, ASP_(converted), Planned_Delivery_Start_Date, Planned_Delivery_End_Date, Month, Delivery_Quarter, Delivery_Year, Actual_Delivery_Date, TRF, Total_Amount_Currency, Total_Amount, Total_Taxable_Amount_Currency, Total_Taxable_Amount, Prod_Category_A]\n",
       "Index: []\n",
       "\n",
       "[0 rows x 51 columns]"
      ]
     },
     "execution_count": 7,
     "metadata": {},
     "output_type": "execute_result"
    }
   ],
   "source": [
    "df.loc[df['Total_Amount'] == 0,].shape[0]  # me queda un unico registro sin completar\n",
    "df.loc[df['Total_Amount'] == 0,] # queda un unico registro con valor cero que se puede completar con Total_Taxable_Amount"
   ]
  },
  {
   "cell_type": "markdown",
   "metadata": {},
   "source": [
    "### Varable region"
   ]
  },
  {
   "cell_type": "code",
   "execution_count": 8,
   "metadata": {},
   "outputs": [
    {
     "data": {
      "text/plain": [
       "0"
      ]
     },
     "execution_count": 8,
     "metadata": {},
     "output_type": "execute_result"
    }
   ],
   "source": [
    "df.Region.value_counts()\n",
    "df.Region.isna().sum() # no hay valores faltantes"
   ]
  },
  {
   "cell_type": "code",
   "execution_count": 9,
   "metadata": {},
   "outputs": [
    {
     "data": {
      "text/plain": [
       "Region    2\n",
       "dtype: int64"
      ]
     },
     "execution_count": 9,
     "metadata": {},
     "output_type": "execute_result"
    }
   ],
   "source": [
    "# pero si hay valores ambiguos, un mismo territorio esta asignado a 2 regiones diferentes (ver tp_1)\n",
    "# hay territorios con mas de una region?\n",
    "df.groupby('Territory').agg({'Region':'nunique'}).max()\n"
   ]
  },
  {
   "cell_type": "code",
   "execution_count": 10,
   "metadata": {},
   "outputs": [],
   "source": [
    "# desamabiguo\n",
    "# Actualizo todas a la Región de mayor cantidad de Oportunidades\n",
    "df.loc[df.Territory=='Jordan','Region'] = 'Middle East'\n",
    "df.loc[df.Territory=='KSA','Region'] = 'Middle East'\n",
    "df.loc[df.Territory=='Kuwait','Region'] = 'Middle East'\n",
    "df.loc[df.Territory=='SE America','Region'] = 'Americas'\n",
    "df.loc[df.Territory=='SW America','Region'] = 'Americas'\n",
    "df.loc[df.Territory=='UAE (Dubai)','Region'] = 'Middle East'"
   ]
  },
  {
   "cell_type": "code",
   "execution_count": 11,
   "metadata": {},
   "outputs": [
    {
     "data": {
      "text/plain": [
       "Region    2\n",
       "dtype: int64"
      ]
     },
     "execution_count": 11,
     "metadata": {},
     "output_type": "execute_result"
    }
   ],
   "source": [
    "# compruebo\n",
    "df.groupby('Territory').agg({'Region':'nunique'}).max()"
   ]
  },
  {
   "cell_type": "markdown",
   "metadata": {},
   "source": [
    "### Variable Planned_Delivery_End_Date"
   ]
  },
  {
   "cell_type": "code",
   "execution_count": 12,
   "metadata": {},
   "outputs": [
    {
     "data": {
      "text/plain": [
       "51"
      ]
     },
     "execution_count": 12,
     "metadata": {},
     "output_type": "execute_result"
    }
   ],
   "source": [
    "# valores Nan de la variable\n",
    "df.loc[df.Planned_Delivery_End_Date.isna(),'Planned_Delivery_End_Date'].shape[0]"
   ]
  },
  {
   "cell_type": "code",
   "execution_count": 13,
   "metadata": {},
   "outputs": [],
   "source": [
    "# completo con la variable Month\n",
    "df['Planned_Delivery_End_Date'] = df.apply(lambda x: x['Month'] if pd.isnull(x['Planned_Delivery_End_Date'])\\\n",
    "                                           else x['Planned_Delivery_End_Date'], axis=1) \n"
   ]
  },
  {
   "cell_type": "code",
   "execution_count": 14,
   "metadata": {},
   "outputs": [
    {
     "data": {
      "text/plain": [
       "0"
      ]
     },
     "execution_count": 14,
     "metadata": {},
     "output_type": "execute_result"
    }
   ],
   "source": [
    "# compruebo\n",
    "df.loc[df.Planned_Delivery_End_Date.isna(),'Planned_Delivery_End_Date'].shape[0]"
   ]
  },
  {
   "cell_type": "markdown",
   "metadata": {},
   "source": [
    "### Variables booleanas"
   ]
  },
  {
   "cell_type": "code",
   "execution_count": 15,
   "metadata": {},
   "outputs": [],
   "source": [
    "features_bool = ['Pricing, Delivery_Terms_Approved', 'Pricing, Delivery_Terms_Quote_Appr',\n",
    "                    'Bureaucratic_Code_0_Approval',\n",
    "                    'Bureaucratic_Code_0_Approved','Submitted_for_Approval']\n",
    "\n",
    "\n",
    "for col in features_bool:\n",
    "    df[col] = df[col].map(lambda x: 0 if x == False else 1)\n",
    "\n",
    "\n"
   ]
  },
  {
   "cell_type": "code",
   "execution_count": 16,
   "metadata": {},
   "outputs": [
    {
     "data": {
      "text/plain": [
       "0    1527\n",
       "1    1024\n",
       "Name: Bureaucratic_Code_0_Approval, dtype: int64"
      ]
     },
     "execution_count": 16,
     "metadata": {},
     "output_type": "execute_result"
    }
   ],
   "source": [
    "df['Pricing, Delivery_Terms_Approved']\n",
    "df['Bureaucratic_Code_0_Approval'].value_counts()"
   ]
  },
  {
   "cell_type": "code",
   "execution_count": 17,
   "metadata": {},
   "outputs": [],
   "source": [
    "# paso a formato de 1-12\n",
    "df['Month'] = df['Month'].dt.month"
   ]
  },
  {
   "cell_type": "code",
   "execution_count": 18,
   "metadata": {},
   "outputs": [
    {
     "data": {
      "text/plain": [
       "Opportunity_ID\n",
       "10689     5\n",
       "10690     6\n",
       "10691    10\n",
       "10692    12\n",
       "10693     5\n",
       "         ..\n",
       "12364     5\n",
       "12365    10\n",
       "12366    10\n",
       "12367     8\n",
       "12368    10\n",
       "Name: Month, Length: 1567, dtype: int64"
      ]
     },
     "execution_count": 18,
     "metadata": {},
     "output_type": "execute_result"
    }
   ],
   "source": [
    "# check\n",
    "df.groupby('Opportunity_ID')['Month'].max()\n"
   ]
  },
  {
   "cell_type": "markdown",
   "metadata": {},
   "source": [
    "## Agrupamos por oportunidad"
   ]
  },
  {
   "cell_type": "code",
   "execution_count": 15,
   "metadata": {},
   "outputs": [],
   "source": [
    "#gruped = df.groupby('Opportunity_ID').agg(Total_Taxable_Amount = ('Total_Taxable_Amount', 'first'),\\\n",
    "#                                                 Total_Amount_sum =('Total_Amount', 'sum'),\\\n",
    "#                                                 Region=('Region','first'),\\\n",
    "#                                                 Target = ('TARGET', 'first'),\\\n",
    "#                                                 Opportunity_Created_Date =('Opportunity_Created_Date','first'),\\\n",
    "#                                                 Account_Created_Date = ('Account_Created_Date','first'),\\\n",
    "#                                                 Planned_Delivery_End_Date=('Planned_Delivery_End_Date','max')).reset_index()"
   ]
  },
  {
   "cell_type": "code",
   "execution_count": 19,
   "metadata": {},
   "outputs": [],
   "source": [
    "gruped = df.groupby('Opportunity_ID').agg(Total_Taxable_Amount = ('Total_Taxable_Amount', 'first'),\\\n",
    "                                                 Total_Amount_sum =('Total_Amount', 'sum'),\\\n",
    "                                                 Region=('Region','first'),\\\n",
    "                                                 #Target = ('TARGET', 'first'),\\\n",
    "                                                 Opportunity_Created_Date =('Opportunity_Created_Date','first'),\\\n",
    "                                                 Account_Created_Date = ('Account_Created_Date','first'),\\\n",
    "                                                 Planned_Delivery_End_Date=('Planned_Delivery_End_Date','max'),\\\n",
    "                                                 Pricing_Delivery_Terms_Approved = ('Pricing, Delivery_Terms_Approved','first'),\\\n",
    "                                                 Pricing_Delivery_Terms_Quote_Appr = ('Pricing, Delivery_Terms_Quote_Appr','first'),\\\n",
    "                                                 Bureaucratic_Code_0_Approval= ('Bureaucratic_Code_0_Approval','first'),\\\n",
    "                                                 Bureaucratic_Code_0_Approved = ('Bureaucratic_Code_0_Approved','first'),\\\n",
    "                                                 Submitted_for_Approval = ('Submitted_for_Approval','first'),\\\n",
    "                                                 Month = ('Month', 'max')).reset_index()"
   ]
  },
  {
   "cell_type": "code",
   "execution_count": 20,
   "metadata": {},
   "outputs": [
    {
     "data": {
      "text/plain": [
       "(1567, 13)"
      ]
     },
     "execution_count": 20,
     "metadata": {},
     "output_type": "execute_result"
    }
   ],
   "source": [
    "gruped.columns\n",
    "gruped.shape"
   ]
  },
  {
   "cell_type": "code",
   "execution_count": 21,
   "metadata": {},
   "outputs": [],
   "source": [
    "# Se agrega una variable random booleana como control para la seleccion de variables \n",
    "gruped['random_feature'] = np.random.randint(2, size=9841)"
   ]
  },
  {
   "cell_type": "markdown",
   "metadata": {},
   "source": [
    "## Post-processing: despues de  agrupar"
   ]
  },
  {
   "cell_type": "markdown",
   "metadata": {},
   "source": [
    "### Varable Total_Taxable_Amount"
   ]
  },
  {
   "cell_type": "code",
   "execution_count": 21,
   "metadata": {},
   "outputs": [
    {
     "data": {
      "text/plain": [
       "61"
      ]
     },
     "execution_count": 21,
     "metadata": {},
     "output_type": "execute_result"
    }
   ],
   "source": [
    "gruped.loc[gruped['Total_Taxable_Amount'] == 0,].shape[0] # 734 valores \n",
    "gruped['Total_Taxable_Amount'].isna().sum() # no hay vaores NaN \n",
    "# reemplazo nan por cero\n",
    "gruped['Total_Taxable_Amount'].replace(np.nan, 0,  inplace=True)\n",
    "# compruebo\n",
    "gruped.loc[gruped['Total_Taxable_Amount'] == 0,].shape[0] # 734 valores con valor cero"
   ]
  },
  {
   "cell_type": "code",
   "execution_count": 22,
   "metadata": {},
   "outputs": [
    {
     "data": {
      "text/plain": [
       "0"
      ]
     },
     "execution_count": 22,
     "metadata": {},
     "output_type": "execute_result"
    }
   ],
   "source": [
    "# completo los valores cero por la suma de Total_Amount\n",
    "gruped['Total_Taxable_Amount'] = gruped.apply(lambda x: x['Total_Amount_sum'] if x['Total_Taxable_Amount'] == 0 \\\n",
    "                                                                        else x['Total_Taxable_Amount'], axis=1)\n",
    "\n",
    "gruped.loc[gruped['Total_Taxable_Amount'] == 0,].shape[0]"
   ]
  },
  {
   "cell_type": "markdown",
   "metadata": {},
   "source": [
    "### Sanity checks Variables Temporales"
   ]
  },
  {
   "cell_type": "code",
   "execution_count": 23,
   "metadata": {},
   "outputs": [
    {
     "data": {
      "text/plain": [
       "[]"
      ]
     },
     "execution_count": 23,
     "metadata": {},
     "output_type": "execute_result"
    }
   ],
   "source": [
    "# anios entre 2013-2018 de todas las columnas fechas de interes\n",
    "bad_years = []\n",
    "for column_year in ['Opportunity_Created_Date', 'Account_Created_Date', 'Planned_Delivery_End_Date']:\n",
    "    #print(column_year)\n",
    "    for year in gruped[column_year].dt.year:\n",
    "        if (year > 2021) | (year < 2013) :\n",
    "            bad_years.append((year, column_year ))\n",
    "bad_years\n",
    "\n"
   ]
  },
  {
   "cell_type": "code",
   "execution_count": 25,
   "metadata": {},
   "outputs": [],
   "source": [
    "gruped.loc[gruped['Planned_Delivery_End_Date'].dt.year == 2208,]\n",
    "# remuevo dato erroneo\n",
    "gruped= gruped[~(gruped['Planned_Delivery_End_Date'].dt.year == 2208)]"
   ]
  },
  {
   "cell_type": "code",
   "execution_count": 24,
   "metadata": {},
   "outputs": [
    {
     "name": "stdout",
     "output_type": "stream",
     "text": [
      "8285\n",
      "8273\n",
      "8277\n",
      "8273\n"
     ]
    }
   ],
   "source": [
    "# Account_Created_Date <= Planned_Delivery_End_Date, entrega del producto posterior o igual a la creacion de la cuenta\n",
    "condition_2 = (gruped['Opportunity_Created_Date'] <= gruped['Planned_Delivery_End_Date'])\n",
    "print(9840 -condition_2.sum()) # 50 \n",
    "gruped['Planned_Delivery_End_Date'] = gruped.apply(lambda x: x['Opportunity_Created_Date'] if (x['Opportunity_Created_Date'] > x['Planned_Delivery_End_Date']) else x['Planned_Delivery_End_Date'], axis=1) \n",
    "condition_2 = (gruped['Opportunity_Created_Date'] <= gruped['Planned_Delivery_End_Date'])\n",
    "print(9840 -condition_2.sum()) # 0\n",
    "\n",
    "# Account_Created_Date <= Opportunity_Created_Date, creacion de la cuenta anterior o mismo tiempo que la oportunidad\n",
    "condition_3 = (gruped['Account_Created_Date'] <= gruped['Opportunity_Created_Date'])\n",
    "print(9840 - condition_3.sum())  # 75\n",
    "gruped['Account_Created_Date'] = gruped.apply(lambda x: x['Opportunity_Created_Date'] if (x['Opportunity_Created_Date'] < x['Account_Created_Date']) else x['Account_Created_Date'], axis=1) \n",
    "condition_3 = (gruped['Account_Created_Date'] <= gruped['Opportunity_Created_Date'])\n",
    "print(9840 - condition_3.sum())  # 0"
   ]
  },
  {
   "cell_type": "markdown",
   "metadata": {},
   "source": [
    "## Feature Engineering"
   ]
  },
  {
   "cell_type": "markdown",
   "metadata": {},
   "source": [
    "### Creacion de Variables"
   ]
  },
  {
   "cell_type": "markdown",
   "metadata": {},
   "source": [
    "### Antiguedad de la cuenta"
   ]
  },
  {
   "cell_type": "code",
   "execution_count": 25,
   "metadata": {},
   "outputs": [],
   "source": [
    "# creo la nueva variable antiguedad de la cuenta (meses)\n",
    "gruped['antiguedad_cuenta'] = round((gruped['Opportunity_Created_Date'] -\\\n",
    "                                     gruped['Account_Created_Date']).dt.days / 30, 2)"
   ]
  },
  {
   "cell_type": "code",
   "execution_count": null,
   "metadata": {},
   "outputs": [],
   "source": [
    "#gruped['antiguedad_cuenta'].describe()"
   ]
  },
  {
   "cell_type": "markdown",
   "metadata": {},
   "source": [
    "### Tiempo de Entrega Maximo"
   ]
  },
  {
   "cell_type": "code",
   "execution_count": 26,
   "metadata": {},
   "outputs": [
    {
     "name": "stdout",
     "output_type": "stream",
     "text": [
      "0\n",
      "19\n"
     ]
    }
   ],
   "source": [
    "gruped['tiempo_entrega_max'] = (gruped['Planned_Delivery_End_Date'] -\\\n",
    "                                gruped['Opportunity_Created_Date']).dt.days\n",
    "\n",
    "print(gruped[gruped['tiempo_entrega_max'] < 0].shape[0]) \n",
    "print(gruped[gruped['tiempo_entrega_max'] == 0].shape[0]) # 80 valores con cero\n"
   ]
  },
  {
   "cell_type": "markdown",
   "metadata": {},
   "source": [
    "### training y test set\n"
   ]
  },
  {
   "cell_type": "code",
   "execution_count": 250,
   "metadata": {},
   "outputs": [],
   "source": [
    "from sklearn.model_selection import train_test_split"
   ]
  },
  {
   "cell_type": "code",
   "execution_count": 27,
   "metadata": {},
   "outputs": [],
   "source": [
    "helper = gruped.copy()"
   ]
  },
  {
   "cell_type": "code",
   "execution_count": 28,
   "metadata": {},
   "outputs": [
    {
     "data": {
      "text/plain": [
       "Index(['Opportunity_ID', 'Total_Taxable_Amount', 'Total_Amount_sum', 'Region',\n",
       "       'Opportunity_Created_Date', 'Account_Created_Date',\n",
       "       'Planned_Delivery_End_Date', 'Pricing_Delivery_Terms_Approved',\n",
       "       'Pricing_Delivery_Terms_Quote_Appr', 'Bureaucratic_Code_0_Approval',\n",
       "       'Bureaucratic_Code_0_Approved', 'Submitted_for_Approval', 'Month',\n",
       "       'antiguedad_cuenta', 'tiempo_entrega_max'],\n",
       "      dtype='object')"
      ]
     },
     "execution_count": 28,
     "metadata": {},
     "output_type": "execute_result"
    }
   ],
   "source": [
    "helper.columns"
   ]
  },
  {
   "cell_type": "code",
   "execution_count": 30,
   "metadata": {},
   "outputs": [
    {
     "data": {
      "text/plain": [
       "Index(['Opportunity_ID', 'Total_Taxable_Amount', 'Region', 'antiguedad_cuenta',\n",
       "       'tiempo_entrega_max', 'Pricing_Delivery_Terms_Approved',\n",
       "       'Pricing_Delivery_Terms_Quote_Appr', 'Bureaucratic_Code_0_Approval',\n",
       "       'Bureaucratic_Code_0_Approved', 'Submitted_for_Approval', 'Month'],\n",
       "      dtype='object')"
      ]
     },
     "execution_count": 30,
     "metadata": {},
     "output_type": "execute_result"
    }
   ],
   "source": [
    "#helper = helper.loc[:, ['Opportunity_ID','Total_Taxable_Amount', 'Region','antiguedad_cuenta', 'tiempo_entrega_max', 'Target','Pricing_Delivery_Terms_Approved', 'Pricing_Delivery_Terms_Quote_Appr',\n",
    "#                    'Bureaucratic_Code_0_Approval',\n",
    "#                    'Bureaucratic_Code_0_Approved','Submitted_for_Approval', 'Month', 'random_feature']]\n",
    "#helper.columns\n",
    "\n",
    "helper = helper.loc[:, ['Opportunity_ID','Total_Taxable_Amount', 'Region','antiguedad_cuenta', 'tiempo_entrega_max', 'Pricing_Delivery_Terms_Approved', 'Pricing_Delivery_Terms_Quote_Appr',\n",
    "                    'Bureaucratic_Code_0_Approval',\n",
    "                    'Bureaucratic_Code_0_Approved','Submitted_for_Approval', 'Month', ]]\n",
    "helper.columns"
   ]
  },
  {
   "cell_type": "code",
   "execution_count": 31,
   "metadata": {},
   "outputs": [],
   "source": [
    "X = helper.copy()"
   ]
  },
  {
   "cell_type": "code",
   "execution_count": 32,
   "metadata": {
    "scrolled": true
   },
   "outputs": [
    {
     "data": {
      "text/html": [
       "<div>\n",
       "<style scoped>\n",
       "    .dataframe tbody tr th:only-of-type {\n",
       "        vertical-align: middle;\n",
       "    }\n",
       "\n",
       "    .dataframe tbody tr th {\n",
       "        vertical-align: top;\n",
       "    }\n",
       "\n",
       "    .dataframe thead th {\n",
       "        text-align: right;\n",
       "    }\n",
       "</style>\n",
       "<table border=\"1\" class=\"dataframe\">\n",
       "  <thead>\n",
       "    <tr style=\"text-align: right;\">\n",
       "      <th></th>\n",
       "      <th>Opportunity_ID</th>\n",
       "      <th>Total_Taxable_Amount</th>\n",
       "      <th>Region</th>\n",
       "      <th>antiguedad_cuenta</th>\n",
       "      <th>tiempo_entrega_max</th>\n",
       "      <th>Pricing_Delivery_Terms_Approved</th>\n",
       "      <th>Pricing_Delivery_Terms_Quote_Appr</th>\n",
       "      <th>Bureaucratic_Code_0_Approval</th>\n",
       "      <th>Bureaucratic_Code_0_Approved</th>\n",
       "      <th>Submitted_for_Approval</th>\n",
       "      <th>Month</th>\n",
       "    </tr>\n",
       "  </thead>\n",
       "  <tbody>\n",
       "    <tr>\n",
       "      <th>0</th>\n",
       "      <td>10689</td>\n",
       "      <td>415183.470</td>\n",
       "      <td>EMEA</td>\n",
       "      <td>21.53</td>\n",
       "      <td>49</td>\n",
       "      <td>1</td>\n",
       "      <td>1</td>\n",
       "      <td>1</td>\n",
       "      <td>1</td>\n",
       "      <td>0</td>\n",
       "      <td>5</td>\n",
       "    </tr>\n",
       "    <tr>\n",
       "      <th>1</th>\n",
       "      <td>10690</td>\n",
       "      <td>856295.355</td>\n",
       "      <td>EMEA</td>\n",
       "      <td>21.53</td>\n",
       "      <td>78</td>\n",
       "      <td>1</td>\n",
       "      <td>1</td>\n",
       "      <td>1</td>\n",
       "      <td>1</td>\n",
       "      <td>0</td>\n",
       "      <td>6</td>\n",
       "    </tr>\n",
       "    <tr>\n",
       "      <th>2</th>\n",
       "      <td>10691</td>\n",
       "      <td>21037.500</td>\n",
       "      <td>Americas</td>\n",
       "      <td>1.83</td>\n",
       "      <td>172</td>\n",
       "      <td>1</td>\n",
       "      <td>1</td>\n",
       "      <td>0</td>\n",
       "      <td>0</td>\n",
       "      <td>0</td>\n",
       "      <td>10</td>\n",
       "    </tr>\n",
       "    <tr>\n",
       "      <th>3</th>\n",
       "      <td>10692</td>\n",
       "      <td>2169106.500</td>\n",
       "      <td>Americas</td>\n",
       "      <td>69.50</td>\n",
       "      <td>248</td>\n",
       "      <td>1</td>\n",
       "      <td>1</td>\n",
       "      <td>1</td>\n",
       "      <td>0</td>\n",
       "      <td>0</td>\n",
       "      <td>12</td>\n",
       "    </tr>\n",
       "    <tr>\n",
       "      <th>4</th>\n",
       "      <td>10693</td>\n",
       "      <td>5752.500</td>\n",
       "      <td>Americas</td>\n",
       "      <td>7.50</td>\n",
       "      <td>20</td>\n",
       "      <td>0</td>\n",
       "      <td>0</td>\n",
       "      <td>0</td>\n",
       "      <td>0</td>\n",
       "      <td>0</td>\n",
       "      <td>5</td>\n",
       "    </tr>\n",
       "    <tr>\n",
       "      <th>...</th>\n",
       "      <td>...</td>\n",
       "      <td>...</td>\n",
       "      <td>...</td>\n",
       "      <td>...</td>\n",
       "      <td>...</td>\n",
       "      <td>...</td>\n",
       "      <td>...</td>\n",
       "      <td>...</td>\n",
       "      <td>...</td>\n",
       "      <td>...</td>\n",
       "      <td>...</td>\n",
       "    </tr>\n",
       "    <tr>\n",
       "      <th>1562</th>\n",
       "      <td>12364</td>\n",
       "      <td>147750.000</td>\n",
       "      <td>Middle East</td>\n",
       "      <td>22.77</td>\n",
       "      <td>14</td>\n",
       "      <td>1</td>\n",
       "      <td>1</td>\n",
       "      <td>0</td>\n",
       "      <td>0</td>\n",
       "      <td>0</td>\n",
       "      <td>5</td>\n",
       "    </tr>\n",
       "    <tr>\n",
       "      <th>1563</th>\n",
       "      <td>12365</td>\n",
       "      <td>45054.900</td>\n",
       "      <td>Americas</td>\n",
       "      <td>10.73</td>\n",
       "      <td>249</td>\n",
       "      <td>1</td>\n",
       "      <td>1</td>\n",
       "      <td>0</td>\n",
       "      <td>0</td>\n",
       "      <td>0</td>\n",
       "      <td>10</td>\n",
       "    </tr>\n",
       "    <tr>\n",
       "      <th>1564</th>\n",
       "      <td>12366</td>\n",
       "      <td>100122.000</td>\n",
       "      <td>Americas</td>\n",
       "      <td>10.73</td>\n",
       "      <td>249</td>\n",
       "      <td>1</td>\n",
       "      <td>1</td>\n",
       "      <td>1</td>\n",
       "      <td>1</td>\n",
       "      <td>0</td>\n",
       "      <td>10</td>\n",
       "    </tr>\n",
       "    <tr>\n",
       "      <th>1565</th>\n",
       "      <td>12367</td>\n",
       "      <td>143220.000</td>\n",
       "      <td>Americas</td>\n",
       "      <td>8.00</td>\n",
       "      <td>97</td>\n",
       "      <td>1</td>\n",
       "      <td>1</td>\n",
       "      <td>0</td>\n",
       "      <td>0</td>\n",
       "      <td>0</td>\n",
       "      <td>8</td>\n",
       "    </tr>\n",
       "    <tr>\n",
       "      <th>1566</th>\n",
       "      <td>12368</td>\n",
       "      <td>984253.504</td>\n",
       "      <td>EMEA</td>\n",
       "      <td>38.33</td>\n",
       "      <td>230</td>\n",
       "      <td>0</td>\n",
       "      <td>1</td>\n",
       "      <td>0</td>\n",
       "      <td>0</td>\n",
       "      <td>0</td>\n",
       "      <td>10</td>\n",
       "    </tr>\n",
       "  </tbody>\n",
       "</table>\n",
       "<p>1567 rows × 11 columns</p>\n",
       "</div>"
      ],
      "text/plain": [
       "      Opportunity_ID  Total_Taxable_Amount       Region  antiguedad_cuenta  \\\n",
       "0              10689            415183.470         EMEA              21.53   \n",
       "1              10690            856295.355         EMEA              21.53   \n",
       "2              10691             21037.500     Americas               1.83   \n",
       "3              10692           2169106.500     Americas              69.50   \n",
       "4              10693              5752.500     Americas               7.50   \n",
       "...              ...                   ...          ...                ...   \n",
       "1562           12364            147750.000  Middle East              22.77   \n",
       "1563           12365             45054.900     Americas              10.73   \n",
       "1564           12366            100122.000     Americas              10.73   \n",
       "1565           12367            143220.000     Americas               8.00   \n",
       "1566           12368            984253.504         EMEA              38.33   \n",
       "\n",
       "      tiempo_entrega_max  Pricing_Delivery_Terms_Approved  \\\n",
       "0                     49                                1   \n",
       "1                     78                                1   \n",
       "2                    172                                1   \n",
       "3                    248                                1   \n",
       "4                     20                                0   \n",
       "...                  ...                              ...   \n",
       "1562                  14                                1   \n",
       "1563                 249                                1   \n",
       "1564                 249                                1   \n",
       "1565                  97                                1   \n",
       "1566                 230                                0   \n",
       "\n",
       "      Pricing_Delivery_Terms_Quote_Appr  Bureaucratic_Code_0_Approval  \\\n",
       "0                                     1                             1   \n",
       "1                                     1                             1   \n",
       "2                                     1                             0   \n",
       "3                                     1                             1   \n",
       "4                                     0                             0   \n",
       "...                                 ...                           ...   \n",
       "1562                                  1                             0   \n",
       "1563                                  1                             0   \n",
       "1564                                  1                             1   \n",
       "1565                                  1                             0   \n",
       "1566                                  1                             0   \n",
       "\n",
       "      Bureaucratic_Code_0_Approved  Submitted_for_Approval  Month  \n",
       "0                                1                       0      5  \n",
       "1                                1                       0      6  \n",
       "2                                0                       0     10  \n",
       "3                                0                       0     12  \n",
       "4                                0                       0      5  \n",
       "...                            ...                     ...    ...  \n",
       "1562                             0                       0      5  \n",
       "1563                             0                       0     10  \n",
       "1564                             1                       0     10  \n",
       "1565                             0                       0      8  \n",
       "1566                             0                       0     10  \n",
       "\n",
       "[1567 rows x 11 columns]"
      ]
     },
     "execution_count": 32,
     "metadata": {},
     "output_type": "execute_result"
    }
   ],
   "source": [
    "X"
   ]
  },
  {
   "cell_type": "code",
   "execution_count": 34,
   "metadata": {},
   "outputs": [],
   "source": [
    "X.to_csv('/home/dipa/proyectos/7506-Organizacion-de-Datos/tp_2/notebooks/feature_sample_.csv')"
   ]
  },
  {
   "cell_type": "code",
   "execution_count": 278,
   "metadata": {},
   "outputs": [],
   "source": [
    "X = helper.drop('Target', axis=1)\n",
    "y = helper[['Target']].values.ravel()"
   ]
  },
  {
   "cell_type": "code",
   "execution_count": 279,
   "metadata": {},
   "outputs": [
    {
     "data": {
      "text/html": [
       "<div>\n",
       "<style scoped>\n",
       "    .dataframe tbody tr th:only-of-type {\n",
       "        vertical-align: middle;\n",
       "    }\n",
       "\n",
       "    .dataframe tbody tr th {\n",
       "        vertical-align: top;\n",
       "    }\n",
       "\n",
       "    .dataframe thead th {\n",
       "        text-align: right;\n",
       "    }\n",
       "</style>\n",
       "<table border=\"1\" class=\"dataframe\">\n",
       "  <thead>\n",
       "    <tr style=\"text-align: right;\">\n",
       "      <th></th>\n",
       "      <th>Total_Taxable_Amount</th>\n",
       "      <th>Region</th>\n",
       "      <th>antiguedad_cuenta</th>\n",
       "      <th>tiempo_entrega_max</th>\n",
       "      <th>Pricing_Delivery_Terms_Approved</th>\n",
       "      <th>Pricing_Delivery_Terms_Quote_Appr</th>\n",
       "      <th>Bureaucratic_Code_0_Approval</th>\n",
       "      <th>Bureaucratic_Code_0_Approved</th>\n",
       "      <th>Submitted_for_Approval</th>\n",
       "      <th>Month</th>\n",
       "      <th>random_feature</th>\n",
       "    </tr>\n",
       "  </thead>\n",
       "  <tbody>\n",
       "    <tr>\n",
       "      <th>0</th>\n",
       "      <td>5958264.0</td>\n",
       "      <td>EMEA</td>\n",
       "      <td>5.8</td>\n",
       "      <td>206</td>\n",
       "      <td>1</td>\n",
       "      <td>1</td>\n",
       "      <td>1</td>\n",
       "      <td>1</td>\n",
       "      <td>0</td>\n",
       "      <td>5</td>\n",
       "      <td>1</td>\n",
       "    </tr>\n",
       "    <tr>\n",
       "      <th>1</th>\n",
       "      <td>54499.9</td>\n",
       "      <td>EMEA</td>\n",
       "      <td>5.8</td>\n",
       "      <td>44</td>\n",
       "      <td>0</td>\n",
       "      <td>0</td>\n",
       "      <td>0</td>\n",
       "      <td>0</td>\n",
       "      <td>0</td>\n",
       "      <td>1</td>\n",
       "      <td>0</td>\n",
       "    </tr>\n",
       "    <tr>\n",
       "      <th>2</th>\n",
       "      <td>83865.6</td>\n",
       "      <td>Americas</td>\n",
       "      <td>7.7</td>\n",
       "      <td>48</td>\n",
       "      <td>0</td>\n",
       "      <td>0</td>\n",
       "      <td>0</td>\n",
       "      <td>0</td>\n",
       "      <td>0</td>\n",
       "      <td>1</td>\n",
       "      <td>0</td>\n",
       "    </tr>\n",
       "    <tr>\n",
       "      <th>3</th>\n",
       "      <td>7421881.5</td>\n",
       "      <td>Americas</td>\n",
       "      <td>28.8</td>\n",
       "      <td>844</td>\n",
       "      <td>0</td>\n",
       "      <td>1</td>\n",
       "      <td>1</td>\n",
       "      <td>0</td>\n",
       "      <td>0</td>\n",
       "      <td>2</td>\n",
       "      <td>0</td>\n",
       "    </tr>\n",
       "    <tr>\n",
       "      <th>4</th>\n",
       "      <td>13357192.5</td>\n",
       "      <td>Americas</td>\n",
       "      <td>28.8</td>\n",
       "      <td>813</td>\n",
       "      <td>0</td>\n",
       "      <td>1</td>\n",
       "      <td>1</td>\n",
       "      <td>0</td>\n",
       "      <td>0</td>\n",
       "      <td>2</td>\n",
       "      <td>1</td>\n",
       "    </tr>\n",
       "  </tbody>\n",
       "</table>\n",
       "</div>"
      ],
      "text/plain": [
       "   Total_Taxable_Amount    Region  antiguedad_cuenta  tiempo_entrega_max  \\\n",
       "0             5958264.0      EMEA                5.8                 206   \n",
       "1               54499.9      EMEA                5.8                  44   \n",
       "2               83865.6  Americas                7.7                  48   \n",
       "3             7421881.5  Americas               28.8                 844   \n",
       "4            13357192.5  Americas               28.8                 813   \n",
       "\n",
       "   Pricing_Delivery_Terms_Approved  Pricing_Delivery_Terms_Quote_Appr  \\\n",
       "0                                1                                  1   \n",
       "1                                0                                  0   \n",
       "2                                0                                  0   \n",
       "3                                0                                  1   \n",
       "4                                0                                  1   \n",
       "\n",
       "   Bureaucratic_Code_0_Approval  Bureaucratic_Code_0_Approved  \\\n",
       "0                             1                             1   \n",
       "1                             0                             0   \n",
       "2                             0                             0   \n",
       "3                             1                             0   \n",
       "4                             1                             0   \n",
       "\n",
       "   Submitted_for_Approval  Month  random_feature  \n",
       "0                       0      5               1  \n",
       "1                       0      1               0  \n",
       "2                       0      1               0  \n",
       "3                       0      2               0  \n",
       "4                       0      2               1  "
      ]
     },
     "execution_count": 279,
     "metadata": {},
     "output_type": "execute_result"
    }
   ],
   "source": [
    "X.head()"
   ]
  },
  {
   "cell_type": "code",
   "execution_count": 280,
   "metadata": {},
   "outputs": [],
   "source": [
    "X_train, X_test, y_train, y_test = train_test_split(X, y, test_size=0.2)"
   ]
  },
  {
   "cell_type": "code",
   "execution_count": 281,
   "metadata": {},
   "outputs": [
    {
     "data": {
      "text/plain": [
       "Index(['Total_Taxable_Amount', 'Region', 'antiguedad_cuenta',\n",
       "       'tiempo_entrega_max', 'Pricing_Delivery_Terms_Approved',\n",
       "       'Pricing_Delivery_Terms_Quote_Appr', 'Bureaucratic_Code_0_Approval',\n",
       "       'Bureaucratic_Code_0_Approved', 'Submitted_for_Approval', 'Month',\n",
       "       'random_feature'],\n",
       "      dtype='object')"
      ]
     },
     "execution_count": 281,
     "metadata": {},
     "output_type": "execute_result"
    }
   ],
   "source": [
    "X_train.columns\n",
    "y_train\n",
    "\n",
    "X_test.columns"
   ]
  },
  {
   "cell_type": "markdown",
   "metadata": {},
   "source": [
    "### Seleccion de Features"
   ]
  },
  {
   "cell_type": "code",
   "execution_count": 32,
   "metadata": {},
   "outputs": [],
   "source": [
    "from sklearn.compose import ColumnTransformer\n",
    "from sklearn.pipeline import Pipeline\n",
    "from sklearn.linear_model import LogisticRegression\n",
    "from sklearn.metrics import roc_auc_score\n",
    "from sklearn.preprocessing import KBinsDiscretizer\n",
    "from sklearn.preprocessing import OneHotEncoder\n",
    "from sklearn.model_selection import cross_val_score\n",
    "from sklearn.model_selection import cross_validate\n",
    "\n",
    "from sklearn.tree import DecisionTreeClassifier\n",
    "\n",
    "from sklearn import tree"
   ]
  },
  {
   "cell_type": "code",
   "execution_count": null,
   "metadata": {},
   "outputs": [],
   "source": [
    "# Modelo Lineal\n",
    "\n",
    "#from sklearn.preprocessing import FunctionTransformer\n",
    "#Log10 = FunctionTransformer(np.log10, validate=True)\n",
    "\n",
    "\n",
    "#ct = ColumnTransformer(\n",
    "#    [(\"total_Taxable_Amount\", log10, [1])])\n",
    "\n",
    "\n",
    "#pipeline = Pipeline([\n",
    "#    ('ct', ct),\n",
    "#    ('LgR', LogisticRegression())\n",
    "#])\n",
    "\n",
    "\n",
    "#ct = ColumnTransformer(\n",
    "#                        [\n",
    "#                            (\"total_Taxable_Amount\", log10, [1]),\n",
    "#                            (\"Region\", OneHotEncoder(),[3]),\n",
    "#                            ('antiguedad_cuenta', KBinsDiscretizer(n_bins=20, strategy='quantile',encode='ordinal'), [7,8])\n",
    "#                        ]\n",
    "#                      )\n",
    "\n",
    "\n",
    "#pipeline = Pipeline([\n",
    "#    ('ct', ct),\n",
    "#    ('std', StandardScaler()),\n",
    "#    ('LogReg', LogisticRegression(solver='lbfgs', max_iter=400))\n",
    "#])\n",
    "\n",
    "### chequear pipeline\n",
    "\n",
    "#pipeline.fit(X_train,y_train)\n",
    "\n",
    "#print('train_auc:', roc_auc_score(y_train, pipeline.predict_proba(X_train)[:, 1]))\n",
    "#print('test_auc:',  roc_auc_score(y_test, pipeline.predict_proba(X_test)[:, 1]))\n",
    "\n",
    "\n"
   ]
  },
  {
   "cell_type": "code",
   "execution_count": 33,
   "metadata": {},
   "outputs": [],
   "source": [
    "#from sklearn.preprocessing import FunctionTransformer\n",
    "#Log10 = FunctionTransformer(np.log10, validate=True)"
   ]
  },
  {
   "cell_type": "code",
   "execution_count": 282,
   "metadata": {},
   "outputs": [],
   "source": [
    "# Modelo no lineal: Arbol simple\n",
    "\n",
    "column_transformer = ColumnTransformer(\n",
    "                        [\n",
    "                            (\"total_Taxable_Amount\", Log10, [0]),\n",
    "                            (\"Region\", OneHotEncoder(),[1]),\n",
    "                            ('binning', KBinsDiscretizer(n_bins=20, strategy='quantile',encode='ordinal'), [2,3])\n",
    "                        ], remainder= 'passthrough'\n",
    "                      )\n",
    "\n",
    "\n",
    "pipeline = Pipeline([\n",
    "    ('ct',column_transformer),\n",
    "    ('Tree_clf',DecisionTreeClassifier(max_depth=10, min_samples_split=20, min_samples_leaf=10))\n",
    "])\n"
   ]
  },
  {
   "cell_type": "code",
   "execution_count": 45,
   "metadata": {},
   "outputs": [
    {
     "name": "stderr",
     "output_type": "stream",
     "text": [
      "/home/dipa/proyectos/7506-Organizacion-de-Datos/lib/python3.6/site-packages/sklearn/preprocessing/_discretization.py:202: UserWarning: Bins whose width are too small (i.e., <= 1e-8) in feature 0 are removed. Consider decreasing the number of bins.\n",
      "  'decreasing the number of bins.' % jj)\n"
     ]
    }
   ],
   "source": [
    "#from sklearn.pipeline import make_union\n",
    "\n",
    "#pipe = make_pipeline( \n",
    "#    make_union(\n",
    "#        column_transformer\n",
    "#    ),\n",
    "\n",
    "#    DecisionTreeClassifier(max_depth=10, min_samples_split=20, min_samples_leaf=10)\n",
    "#)\n",
    "\n",
    "#pipe.fit(X_train, y_train);"
   ]
  },
  {
   "cell_type": "code",
   "execution_count": 283,
   "metadata": {},
   "outputs": [
    {
     "name": "stderr",
     "output_type": "stream",
     "text": [
      "/home/dipa/proyectos/7506-Organizacion-de-Datos/lib/python3.6/site-packages/sklearn/preprocessing/_discretization.py:202: UserWarning: Bins whose width are too small (i.e., <= 1e-8) in feature 0 are removed. Consider decreasing the number of bins.\n",
      "  'decreasing the number of bins.' % jj)\n"
     ]
    },
    {
     "data": {
      "text/plain": [
       "Pipeline(steps=[('ct',\n",
       "                 ColumnTransformer(remainder='passthrough',\n",
       "                                   transformers=[('total_Taxable_Amount',\n",
       "                                                  FunctionTransformer(func=<ufunc 'log10'>,\n",
       "                                                                      validate=True),\n",
       "                                                  [0]),\n",
       "                                                 ('Region', OneHotEncoder(),\n",
       "                                                  [1]),\n",
       "                                                 ('binning',\n",
       "                                                  KBinsDiscretizer(encode='ordinal',\n",
       "                                                                   n_bins=20),\n",
       "                                                  [2, 3])])),\n",
       "                ('Tree_clf',\n",
       "                 DecisionTreeClassifier(max_depth=10, min_samples_leaf=10,\n",
       "                                        min_samples_split=20))])"
      ]
     },
     "execution_count": 283,
     "metadata": {},
     "output_type": "execute_result"
    }
   ],
   "source": [
    "pipeline.fit(X_train,y_train)"
   ]
  },
  {
   "cell_type": "code",
   "execution_count": 284,
   "metadata": {},
   "outputs": [
    {
     "name": "stdout",
     "output_type": "stream",
     "text": [
      "train_auc: 0.9199336646759388\n",
      "test_auc: 0.8361989001523884\n"
     ]
    }
   ],
   "source": [
    "\n",
    "print('train_auc:', roc_auc_score(y_train, pipeline.predict_proba(X_train)[:, 1]))\n",
    "print('test_auc:',  roc_auc_score(y_test, pipeline.predict_proba(X_test)[:, 1]))\n",
    "\n",
    "# cross validation\n",
    "\n",
    "#scores = cross_val_score(pipeline, X, y, scoring='roc_auc', cv=5)\n",
    "#scores = cross_validate(pipeline, X, y, scoring=['roc_auc', 'f1', 'accuracy', 'roc_auc_ovo','neg_log_loss','r2'], cv=10, return_train_score=True)"
   ]
  },
  {
   "cell_type": "code",
   "execution_count": 285,
   "metadata": {},
   "outputs": [
    {
     "data": {
      "text/plain": [
       "array([0.20227286, 0.02042289, 0.00696926, 0.01009282, 0.01985475,\n",
       "       0.00106847, 0.10534293, 0.55079365, 0.01050619, 0.01219708,\n",
       "       0.00859758, 0.00263855, 0.        , 0.04360267, 0.0056403 ])"
      ]
     },
     "execution_count": 285,
     "metadata": {},
     "output_type": "execute_result"
    }
   ],
   "source": [
    "#print(X_train.columns)\n",
    "pipeline.steps[1][1].feature_importances_"
   ]
  },
  {
   "cell_type": "code",
   "execution_count": 286,
   "metadata": {},
   "outputs": [
    {
     "data": {
      "text/plain": [
       "15"
      ]
     },
     "execution_count": 286,
     "metadata": {},
     "output_type": "execute_result"
    }
   ],
   "source": [
    "pipeline.steps[1][1].n_features_\n"
   ]
  },
  {
   "cell_type": "code",
   "execution_count": 287,
   "metadata": {},
   "outputs": [
    {
     "data": {
      "text/plain": [
       "Index(['Total_Taxable_Amount', 'Region', 'antiguedad_cuenta',\n",
       "       'tiempo_entrega_max', 'Pricing_Delivery_Terms_Approved',\n",
       "       'Pricing_Delivery_Terms_Quote_Appr', 'Bureaucratic_Code_0_Approval',\n",
       "       'Bureaucratic_Code_0_Approved', 'Submitted_for_Approval', 'Month',\n",
       "       'random_feature'],\n",
       "      dtype='object')"
      ]
     },
     "execution_count": 287,
     "metadata": {},
     "output_type": "execute_result"
    }
   ],
   "source": [
    "X_train.columns"
   ]
  },
  {
   "cell_type": "code",
   "execution_count": 288,
   "metadata": {},
   "outputs": [
    {
     "data": {
      "text/plain": [
       "15"
      ]
     },
     "execution_count": 288,
     "metadata": {},
     "output_type": "execute_result"
    }
   ],
   "source": [
    "features_list = []\n",
    "\n",
    "regions = ['APAC', 'Americas', 'EMEA', 'Japan', 'Middle East']\n",
    "features_bool = ['Pricing, Delivery_Terms_Approved', 'Pricing, Delivery_Terms_Quote_Appr',\n",
    "                    'Bureaucratic_Code_0_Approval',\n",
    "                    'Bureaucratic_Code_0_Approved','Submitted_for_Approval']\n",
    "\n",
    "features_list.append('Total_Taxable_Amount')\n",
    "features_list = features_list + regions\n",
    "features_list = features_list + ['antiguedad_cuenta', 'tiempo_entrega_max']\n",
    "features_list = features_list + features_bool\n",
    "features_list.append('Month')\n",
    "features_list.append('random_feature')\n",
    "\n",
    "len(features_list)\n",
    "\n"
   ]
  },
  {
   "cell_type": "code",
   "execution_count": 289,
   "metadata": {},
   "outputs": [
    {
     "data": {
      "image/png": "[encoded data removed]",
      "text/plain": [
       "<Figure size 432x288 with 1 Axes>"
      ]
     },
     "metadata": {
      "needs_background": "light"
     },
     "output_type": "display_data"
    }
   ],
   "source": [
    "plt.bar(features_list, pipeline.steps[1][1].feature_importances_)\n",
    "plt.xlabel('Features')\n",
    "plt.xticks(rotation='vertical')\n",
    "plt.ylabel('Importancia')\n",
    "plt.title('Importancia Features con unico Arbol')\n",
    "plt.show()"
   ]
  }
 ],
 "metadata": {
  "kernelspec": {
   "display_name": "7506-Organizacion-de-Datos",
   "language": "python",
   "name": "7506-organizacion-de-datos"
  },
  "language_info": {
   "codemirror_mode": {
    "name": "ipython",
    "version": 3
   },
   "file_extension": ".py",
   "mimetype": "text/x-python",
   "name": "python",
   "nbconvert_exporter": "python",
   "pygments_lexer": "ipython3",
   "version": "3.6.9"
  }
 },
 "nbformat": 4,
 "nbformat_minor": 2
}
