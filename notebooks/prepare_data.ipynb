{
 "cells": [
  {
   "cell_type": "code",
   "execution_count": 2,
   "metadata": {},
   "outputs": [],
   "source": [
    "# Path de trabajo\n",
    "WORK_DIR = '/home/dipa/proyectos/7506-Organizacion-de-Datos/tp_2'"
   ]
  },
  {
   "cell_type": "code",
   "execution_count": 4,
   "metadata": {},
   "outputs": [],
   "source": [
    "import sys\n",
    "sys.path.append('/home/dipa/proyectos/7506-Organizacion-de-Datos/tp_2')\n",
    "\n",
    "\n",
    "\n",
    "import os\n",
    "import pandas as pd\n",
    "import numpy as np\n",
    "import matplotlib.pyplot as plt\n",
    "\n",
    "from lib.transform import transform_data\n",
    "from lib import prepare_data\n",
    "from lib import model_data\n",
    "\n",
    "from sklearn.pipeline import make_pipeline\n",
    "from sklearn.preprocessing import StandardScaler\n",
    "from sklearn.feature_extraction import DictVectorizer\n",
    "from sklearn.linear_model import LogisticRegression\n",
    "from sklearn.metrics import roc_auc_score"
   ]
  },
  {
   "cell_type": "markdown",
   "metadata": {},
   "source": [
    "### Load data"
   ]
  },
  {
   "cell_type": "code",
   "execution_count": 5,
   "metadata": {},
   "outputs": [],
   "source": [
    "### Se carga el file correspondiente\n",
    "train = 'data/Entrenamieto_ECI_2020.csv'\n",
    "\n",
    "\n",
    "df = prepare_data.load(os.path.join(WORK_DIR, train))\n",
    "df['Target'] = np.where(df['Stage'] != 'Closed Lost', 1, 0)"
   ]
  },
  {
   "cell_type": "code",
   "execution_count": 6,
   "metadata": {},
   "outputs": [
    {
     "data": {
      "text/html": [
       "<div>\n",
       "<style scoped>\n",
       "    .dataframe tbody tr th:only-of-type {\n",
       "        vertical-align: middle;\n",
       "    }\n",
       "\n",
       "    .dataframe tbody tr th {\n",
       "        vertical-align: top;\n",
       "    }\n",
       "\n",
       "    .dataframe thead th {\n",
       "        text-align: right;\n",
       "    }\n",
       "</style>\n",
       "<table border=\"1\" class=\"dataframe\">\n",
       "  <thead>\n",
       "    <tr style=\"text-align: right;\">\n",
       "      <th></th>\n",
       "      <th>ID</th>\n",
       "      <th>Region</th>\n",
       "      <th>Territory</th>\n",
       "      <th>Pricing, Delivery_Terms_Quote_Appr</th>\n",
       "      <th>Pricing, Delivery_Terms_Approved</th>\n",
       "      <th>Bureaucratic_Code_0_Approval</th>\n",
       "      <th>Bureaucratic_Code_0_Approved</th>\n",
       "      <th>Submitted_for_Approval</th>\n",
       "      <th>Bureaucratic_Code</th>\n",
       "      <th>Account_Created_Date</th>\n",
       "      <th>...</th>\n",
       "      <th>Delivery_Year</th>\n",
       "      <th>Actual_Delivery_Date</th>\n",
       "      <th>TRF</th>\n",
       "      <th>Total_Amount_Currency</th>\n",
       "      <th>Total_Amount</th>\n",
       "      <th>Total_Taxable_Amount_Currency</th>\n",
       "      <th>Total_Taxable_Amount</th>\n",
       "      <th>Stage</th>\n",
       "      <th>Prod_Category_A</th>\n",
       "      <th>Target</th>\n",
       "    </tr>\n",
       "  </thead>\n",
       "  <tbody>\n",
       "    <tr>\n",
       "      <th>8</th>\n",
       "      <td>24353</td>\n",
       "      <td>Japan</td>\n",
       "      <td>NaN</td>\n",
       "      <td>True</td>\n",
       "      <td>False</td>\n",
       "      <td>False</td>\n",
       "      <td>False</td>\n",
       "      <td>False</td>\n",
       "      <td>Bureaucratic_Code_5</td>\n",
       "      <td>2015-04-20</td>\n",
       "      <td>...</td>\n",
       "      <td>2016-01-01</td>\n",
       "      <td>NaT</td>\n",
       "      <td>0</td>\n",
       "      <td>JPY</td>\n",
       "      <td>15600.0</td>\n",
       "      <td>JPY</td>\n",
       "      <td>470400.0</td>\n",
       "      <td>Closed Lost</td>\n",
       "      <td>Prod_Category_A_None</td>\n",
       "      <td>0</td>\n",
       "    </tr>\n",
       "    <tr>\n",
       "      <th>9</th>\n",
       "      <td>24355</td>\n",
       "      <td>Japan</td>\n",
       "      <td>NaN</td>\n",
       "      <td>True</td>\n",
       "      <td>False</td>\n",
       "      <td>False</td>\n",
       "      <td>False</td>\n",
       "      <td>False</td>\n",
       "      <td>Bureaucratic_Code_5</td>\n",
       "      <td>2015-04-20</td>\n",
       "      <td>...</td>\n",
       "      <td>2016-01-01</td>\n",
       "      <td>NaT</td>\n",
       "      <td>0</td>\n",
       "      <td>JPY</td>\n",
       "      <td>4400.0</td>\n",
       "      <td>JPY</td>\n",
       "      <td>470400.0</td>\n",
       "      <td>Closed Lost</td>\n",
       "      <td>Prod_Category_A_None</td>\n",
       "      <td>0</td>\n",
       "    </tr>\n",
       "    <tr>\n",
       "      <th>10</th>\n",
       "      <td>24356</td>\n",
       "      <td>Japan</td>\n",
       "      <td>NaN</td>\n",
       "      <td>True</td>\n",
       "      <td>False</td>\n",
       "      <td>False</td>\n",
       "      <td>False</td>\n",
       "      <td>False</td>\n",
       "      <td>Bureaucratic_Code_5</td>\n",
       "      <td>2015-04-20</td>\n",
       "      <td>...</td>\n",
       "      <td>2016-01-01</td>\n",
       "      <td>NaT</td>\n",
       "      <td>0</td>\n",
       "      <td>JPY</td>\n",
       "      <td>6200.0</td>\n",
       "      <td>JPY</td>\n",
       "      <td>470400.0</td>\n",
       "      <td>Closed Lost</td>\n",
       "      <td>Prod_Category_A_None</td>\n",
       "      <td>0</td>\n",
       "    </tr>\n",
       "    <tr>\n",
       "      <th>11</th>\n",
       "      <td>24357</td>\n",
       "      <td>Japan</td>\n",
       "      <td>NaN</td>\n",
       "      <td>True</td>\n",
       "      <td>False</td>\n",
       "      <td>False</td>\n",
       "      <td>False</td>\n",
       "      <td>False</td>\n",
       "      <td>Bureaucratic_Code_5</td>\n",
       "      <td>2015-04-20</td>\n",
       "      <td>...</td>\n",
       "      <td>2016-01-01</td>\n",
       "      <td>NaT</td>\n",
       "      <td>0</td>\n",
       "      <td>JPY</td>\n",
       "      <td>140000.0</td>\n",
       "      <td>JPY</td>\n",
       "      <td>470400.0</td>\n",
       "      <td>Closed Lost</td>\n",
       "      <td>Prod_Category_A_None</td>\n",
       "      <td>0</td>\n",
       "    </tr>\n",
       "    <tr>\n",
       "      <th>12</th>\n",
       "      <td>24358</td>\n",
       "      <td>Japan</td>\n",
       "      <td>NaN</td>\n",
       "      <td>True</td>\n",
       "      <td>False</td>\n",
       "      <td>False</td>\n",
       "      <td>False</td>\n",
       "      <td>False</td>\n",
       "      <td>Bureaucratic_Code_5</td>\n",
       "      <td>2015-04-20</td>\n",
       "      <td>...</td>\n",
       "      <td>2016-01-01</td>\n",
       "      <td>NaT</td>\n",
       "      <td>0</td>\n",
       "      <td>JPY</td>\n",
       "      <td>304200.0</td>\n",
       "      <td>JPY</td>\n",
       "      <td>470400.0</td>\n",
       "      <td>Closed Lost</td>\n",
       "      <td>Prod_Category_A_None</td>\n",
       "      <td>0</td>\n",
       "    </tr>\n",
       "  </tbody>\n",
       "</table>\n",
       "<p>5 rows × 53 columns</p>\n",
       "</div>"
      ],
      "text/plain": [
       "       ID Region Territory  Pricing, Delivery_Terms_Quote_Appr  \\\n",
       "8   24353  Japan       NaN                                True   \n",
       "9   24355  Japan       NaN                                True   \n",
       "10  24356  Japan       NaN                                True   \n",
       "11  24357  Japan       NaN                                True   \n",
       "12  24358  Japan       NaN                                True   \n",
       "\n",
       "    Pricing, Delivery_Terms_Approved  Bureaucratic_Code_0_Approval  \\\n",
       "8                              False                         False   \n",
       "9                              False                         False   \n",
       "10                             False                         False   \n",
       "11                             False                         False   \n",
       "12                             False                         False   \n",
       "\n",
       "    Bureaucratic_Code_0_Approved  Submitted_for_Approval    Bureaucratic_Code  \\\n",
       "8                          False                   False  Bureaucratic_Code_5   \n",
       "9                          False                   False  Bureaucratic_Code_5   \n",
       "10                         False                   False  Bureaucratic_Code_5   \n",
       "11                         False                   False  Bureaucratic_Code_5   \n",
       "12                         False                   False  Bureaucratic_Code_5   \n",
       "\n",
       "   Account_Created_Date  ... Delivery_Year Actual_Delivery_Date TRF  \\\n",
       "8            2015-04-20  ...    2016-01-01                  NaT   0   \n",
       "9            2015-04-20  ...    2016-01-01                  NaT   0   \n",
       "10           2015-04-20  ...    2016-01-01                  NaT   0   \n",
       "11           2015-04-20  ...    2016-01-01                  NaT   0   \n",
       "12           2015-04-20  ...    2016-01-01                  NaT   0   \n",
       "\n",
       "   Total_Amount_Currency  Total_Amount  Total_Taxable_Amount_Currency  \\\n",
       "8                    JPY       15600.0                            JPY   \n",
       "9                    JPY        4400.0                            JPY   \n",
       "10                   JPY        6200.0                            JPY   \n",
       "11                   JPY      140000.0                            JPY   \n",
       "12                   JPY      304200.0                            JPY   \n",
       "\n",
       "   Total_Taxable_Amount        Stage       Prod_Category_A Target  \n",
       "8              470400.0  Closed Lost  Prod_Category_A_None      0  \n",
       "9              470400.0  Closed Lost  Prod_Category_A_None      0  \n",
       "10             470400.0  Closed Lost  Prod_Category_A_None      0  \n",
       "11             470400.0  Closed Lost  Prod_Category_A_None      0  \n",
       "12             470400.0  Closed Lost  Prod_Category_A_None      0  \n",
       "\n",
       "[5 rows x 53 columns]"
      ]
     },
     "execution_count": 6,
     "metadata": {},
     "output_type": "execute_result"
    }
   ],
   "source": [
    "df.loc[df['Opportunity_ID'] == 8,]"
   ]
  },
  {
   "cell_type": "markdown",
   "metadata": {},
   "source": [
    "# Prepare data\n"
   ]
  },
  {
   "cell_type": "markdown",
   "metadata": {},
   "source": [
    "## Pre-processing: antes de agrupar"
   ]
  },
  {
   "cell_type": "markdown",
   "metadata": {},
   "source": [
    "### Variables monto:\n",
    "        * pasar todo a dolares (ya incluido en la carga)\n",
    "        * completar valores 0/NaN de Total_Amount con : TRF * ASP_(converted) | mediana "
   ]
  },
  {
   "cell_type": "markdown",
   "metadata": {},
   "source": [
    "#### completar valores 0/NaN de Total_Amount con : TRF * ASP_(converted) | mediana "
   ]
  },
  {
   "cell_type": "code",
   "execution_count": 7,
   "metadata": {},
   "outputs": [
    {
     "data": {
      "text/plain": [
       "59"
      ]
     },
     "execution_count": 7,
     "metadata": {},
     "output_type": "execute_result"
    }
   ],
   "source": [
    "# check cuantos valores con cero hay\n",
    "df.loc[df['Total_Amount'] == 0,].shape[0] # 52\n",
    "\n",
    "# check cuantos valores con cero hay\n",
    "df['Total_Amount'].isna().sum() # 59"
   ]
  },
  {
   "cell_type": "code",
   "execution_count": 8,
   "metadata": {},
   "outputs": [
    {
     "data": {
      "text/plain": [
       "111"
      ]
     },
     "execution_count": 8,
     "metadata": {},
     "output_type": "execute_result"
    }
   ],
   "source": [
    "# reemplazo nan por cero\n",
    "df['Total_Amount'].replace(np.nan, 0,  inplace=True)\n",
    "df.loc[df['Total_Amount'] == 0,].shape[0] # 111"
   ]
  },
  {
   "cell_type": "code",
   "execution_count": 9,
   "metadata": {},
   "outputs": [],
   "source": [
    "def completed_cero_Total_Amounts(df):\n",
    "    \n",
    "\n",
    "    df['price_trf'] = df['ASP_(converted)'] * df['TRF'] * 1000000\n",
    "    # reemplazo nan por cero\n",
    "    df['price_trf'].replace(np.nan, 0,  inplace=True)\n",
    "    \n",
    "    # asigno a cada product_name la mediana\n",
    "    df['product_median_amount'] = df.groupby('Product_Name')['Total_Amount'].transform('median')\n",
    "    # reemplazo nan por cero\n",
    "    df['product_median_amount'].replace(np.nan, 0,  inplace=True)\n",
    "\n",
    "    \n",
    "    rows = []\n",
    "    \n",
    "    for idx, row in df.iterrows():\n",
    "        if row['Total_Amount'] == 0:\n",
    "            if row['price_trf'] != 0:\n",
    "                rows.append(row['price_trf'])\n",
    "            else:\n",
    "                rows.append(row['product_median_amount'])\n",
    "        else:\n",
    "            rows.append(row['Total_Amount'])\n",
    "    \n",
    "    # elimino columnas\n",
    "    df.drop(['price_trf', 'product_median_amount'], axis=1, inplace=True)\n",
    "    \n",
    "            \n",
    "    return pd.Series(rows)\n",
    "    "
   ]
  },
  {
   "cell_type": "code",
   "execution_count": 10,
   "metadata": {},
   "outputs": [],
   "source": [
    "df['Total_Amount'] = completed_cero_Total_Amounts(df)"
   ]
  },
  {
   "cell_type": "code",
   "execution_count": 11,
   "metadata": {},
   "outputs": [
    {
     "data": {
      "text/html": [
       "<div>\n",
       "<style scoped>\n",
       "    .dataframe tbody tr th:only-of-type {\n",
       "        vertical-align: middle;\n",
       "    }\n",
       "\n",
       "    .dataframe tbody tr th {\n",
       "        vertical-align: top;\n",
       "    }\n",
       "\n",
       "    .dataframe thead th {\n",
       "        text-align: right;\n",
       "    }\n",
       "</style>\n",
       "<table border=\"1\" class=\"dataframe\">\n",
       "  <thead>\n",
       "    <tr style=\"text-align: right;\">\n",
       "      <th></th>\n",
       "      <th>ID</th>\n",
       "      <th>Region</th>\n",
       "      <th>Territory</th>\n",
       "      <th>Pricing, Delivery_Terms_Quote_Appr</th>\n",
       "      <th>Pricing, Delivery_Terms_Approved</th>\n",
       "      <th>Bureaucratic_Code_0_Approval</th>\n",
       "      <th>Bureaucratic_Code_0_Approved</th>\n",
       "      <th>Submitted_for_Approval</th>\n",
       "      <th>Bureaucratic_Code</th>\n",
       "      <th>Account_Created_Date</th>\n",
       "      <th>...</th>\n",
       "      <th>Delivery_Year</th>\n",
       "      <th>Actual_Delivery_Date</th>\n",
       "      <th>TRF</th>\n",
       "      <th>Total_Amount_Currency</th>\n",
       "      <th>Total_Amount</th>\n",
       "      <th>Total_Taxable_Amount_Currency</th>\n",
       "      <th>Total_Taxable_Amount</th>\n",
       "      <th>Stage</th>\n",
       "      <th>Prod_Category_A</th>\n",
       "      <th>Target</th>\n",
       "    </tr>\n",
       "  </thead>\n",
       "  <tbody>\n",
       "    <tr>\n",
       "      <th>16300</th>\n",
       "      <td>27973</td>\n",
       "      <td>EMEA</td>\n",
       "      <td>Macedonia</td>\n",
       "      <td>True</td>\n",
       "      <td>False</td>\n",
       "      <td>True</td>\n",
       "      <td>False</td>\n",
       "      <td>False</td>\n",
       "      <td>Bureaucratic_Code_5</td>\n",
       "      <td>2015-06-22</td>\n",
       "      <td>...</td>\n",
       "      <td>2016-01-01</td>\n",
       "      <td>NaT</td>\n",
       "      <td>1</td>\n",
       "      <td>EUR</td>\n",
       "      <td>0.0</td>\n",
       "      <td>EUR</td>\n",
       "      <td>549450.0</td>\n",
       "      <td>Closed Lost</td>\n",
       "      <td>Prod_Category_A_None</td>\n",
       "      <td>0</td>\n",
       "    </tr>\n",
       "  </tbody>\n",
       "</table>\n",
       "<p>1 rows × 53 columns</p>\n",
       "</div>"
      ],
      "text/plain": [
       "          ID Region  Territory  Pricing, Delivery_Terms_Quote_Appr  \\\n",
       "16300  27973   EMEA  Macedonia                                True   \n",
       "\n",
       "       Pricing, Delivery_Terms_Approved  Bureaucratic_Code_0_Approval  \\\n",
       "16300                             False                          True   \n",
       "\n",
       "       Bureaucratic_Code_0_Approved  Submitted_for_Approval  \\\n",
       "16300                         False                   False   \n",
       "\n",
       "         Bureaucratic_Code Account_Created_Date  ... Delivery_Year  \\\n",
       "16300  Bureaucratic_Code_5           2015-06-22  ...    2016-01-01   \n",
       "\n",
       "      Actual_Delivery_Date TRF Total_Amount_Currency  Total_Amount  \\\n",
       "16300                  NaT   1                   EUR           0.0   \n",
       "\n",
       "       Total_Taxable_Amount_Currency Total_Taxable_Amount        Stage  \\\n",
       "16300                            EUR             549450.0  Closed Lost   \n",
       "\n",
       "            Prod_Category_A Target  \n",
       "16300  Prod_Category_A_None      0  \n",
       "\n",
       "[1 rows x 53 columns]"
      ]
     },
     "execution_count": 11,
     "metadata": {},
     "output_type": "execute_result"
    }
   ],
   "source": [
    "df.loc[df['Total_Amount'] == 0,].shape[0]  # me queda un unico registro sin completar\n",
    "df.loc[df['Total_Amount'] == 0,] # queda un unico registro con valor cero que se puede completar con Total_Taxable_Amount"
   ]
  },
  {
   "cell_type": "markdown",
   "metadata": {},
   "source": [
    "### Varable region"
   ]
  },
  {
   "cell_type": "code",
   "execution_count": 12,
   "metadata": {},
   "outputs": [
    {
     "data": {
      "text/plain": [
       "0"
      ]
     },
     "execution_count": 12,
     "metadata": {},
     "output_type": "execute_result"
    }
   ],
   "source": [
    "df.Region.value_counts()\n",
    "df.Region.isna().sum() # no hay valores faltantes"
   ]
  },
  {
   "cell_type": "code",
   "execution_count": 13,
   "metadata": {},
   "outputs": [
    {
     "data": {
      "text/plain": [
       "Region    2\n",
       "dtype: int64"
      ]
     },
     "execution_count": 13,
     "metadata": {},
     "output_type": "execute_result"
    }
   ],
   "source": [
    "# pero si hay valores ambiguos, un mismo territorio esta asignado a 2 regiones diferentes (ver tp_1)\n",
    "# hay territorios con mas de una region?\n",
    "df.groupby('Territory').agg({'Region':'nunique'}).max()\n"
   ]
  },
  {
   "cell_type": "code",
   "execution_count": 14,
   "metadata": {},
   "outputs": [],
   "source": [
    "# desamabiguo\n",
    "# Actualizo todas a la Región de mayor cantidad de Oportunidades\n",
    "df.loc[df.Territory=='Jordan','Region'] = 'Middle East'\n",
    "df.loc[df.Territory=='KSA','Region'] = 'Middle East'\n",
    "df.loc[df.Territory=='Kuwait','Region'] = 'Middle East'\n",
    "df.loc[df.Territory=='SE America','Region'] = 'Americas'\n",
    "df.loc[df.Territory=='SW America','Region'] = 'Americas'\n",
    "df.loc[df.Territory=='UAE (Dubai)','Region'] = 'Middle East'"
   ]
  },
  {
   "cell_type": "code",
   "execution_count": 15,
   "metadata": {},
   "outputs": [
    {
     "data": {
      "text/plain": [
       "Region    1\n",
       "dtype: int64"
      ]
     },
     "execution_count": 15,
     "metadata": {},
     "output_type": "execute_result"
    }
   ],
   "source": [
    "# compruebo\n",
    "df.groupby('Territory').agg({'Region':'nunique'}).max()"
   ]
  },
  {
   "cell_type": "markdown",
   "metadata": {},
   "source": [
    "### Variable Planned_Delivery_End_Date"
   ]
  },
  {
   "cell_type": "code",
   "execution_count": 16,
   "metadata": {},
   "outputs": [
    {
     "data": {
      "text/plain": [
       "75"
      ]
     },
     "execution_count": 16,
     "metadata": {},
     "output_type": "execute_result"
    }
   ],
   "source": [
    "# valores Nan de la variable\n",
    "df.loc[df.Planned_Delivery_End_Date.isna(),'Planned_Delivery_End_Date'].shape[0]"
   ]
  },
  {
   "cell_type": "code",
   "execution_count": 17,
   "metadata": {},
   "outputs": [],
   "source": [
    "# completo con la variable Month\n",
    "df['Planned_Delivery_End_Date'] = df.apply(lambda x: x['Month'] if pd.isnull(x['Planned_Delivery_End_Date'])\\\n",
    "                                           else x['Planned_Delivery_End_Date'], axis=1) \n"
   ]
  },
  {
   "cell_type": "code",
   "execution_count": 18,
   "metadata": {},
   "outputs": [
    {
     "data": {
      "text/plain": [
       "0"
      ]
     },
     "execution_count": 18,
     "metadata": {},
     "output_type": "execute_result"
    }
   ],
   "source": [
    "# compruebo\n",
    "df.loc[df.Planned_Delivery_End_Date.isna(),'Planned_Delivery_End_Date'].shape[0]"
   ]
  },
  {
   "cell_type": "markdown",
   "metadata": {},
   "source": [
    "### Variables booleanas"
   ]
  },
  {
   "cell_type": "code",
   "execution_count": 19,
   "metadata": {},
   "outputs": [],
   "source": [
    "features_bool = ['Pricing, Delivery_Terms_Approved', 'Pricing, Delivery_Terms_Quote_Appr',\n",
    "                    'Bureaucratic_Code_0_Approval',\n",
    "                    'Bureaucratic_Code_0_Approved','Submitted_for_Approval']\n",
    "\n",
    "\n",
    "for col in features_bool:\n",
    "    df[col] = df[col].map(lambda x: 0 if x == False else 1)\n",
    "\n",
    "\n"
   ]
  },
  {
   "cell_type": "code",
   "execution_count": 20,
   "metadata": {},
   "outputs": [
    {
     "data": {
      "text/plain": [
       "0    8889\n",
       "1    8058\n",
       "Name: Bureaucratic_Code_0_Approval, dtype: int64"
      ]
     },
     "execution_count": 20,
     "metadata": {},
     "output_type": "execute_result"
    }
   ],
   "source": [
    "df['Pricing, Delivery_Terms_Approved']\n",
    "df['Bureaucratic_Code_0_Approval'].value_counts()"
   ]
  },
  {
   "cell_type": "code",
   "execution_count": 21,
   "metadata": {},
   "outputs": [],
   "source": [
    "# paso a formato de 1-12\n",
    "df['Month'] = df['Month'].dt.month"
   ]
  },
  {
   "cell_type": "code",
   "execution_count": 22,
   "metadata": {},
   "outputs": [
    {
     "data": {
      "text/plain": [
       "Opportunity_ID\n",
       "0         5\n",
       "1         1\n",
       "2         1\n",
       "3         2\n",
       "4         2\n",
       "         ..\n",
       "12799     4\n",
       "12800    10\n",
       "12801     4\n",
       "12802     4\n",
       "12803     7\n",
       "Name: Month, Length: 9841, dtype: int64"
      ]
     },
     "execution_count": 22,
     "metadata": {},
     "output_type": "execute_result"
    }
   ],
   "source": [
    "# check\n",
    "df.groupby('Opportunity_ID')['Month'].max()\n"
   ]
  },
  {
   "cell_type": "markdown",
   "metadata": {},
   "source": [
    "## Agrupamos por oportunidad"
   ]
  },
  {
   "cell_type": "code",
   "execution_count": 45,
   "metadata": {},
   "outputs": [],
   "source": [
    "gruped = df.groupby('Opportunity_ID').agg(Total_Taxable_Amount = ('Total_Taxable_Amount', 'first'),\\\n",
    "                                                 Total_Amount_sum =('Total_Amount', 'sum'),\\\n",
    "                                                 Region=('Region','first'),\\\n",
    "                                                 Target = ('Target', 'first'),\\\n",
    "                                                 Opportunity_Created_Date =('Opportunity_Created_Date','first'),\\\n",
    "                                                 Account_Created_Date = ('Account_Created_Date','first'),\\\n",
    "                                                 Planned_Delivery_End_Date=('Planned_Delivery_End_Date','max'),\\\n",
    "                                                 Pricing_Delivery_Terms_Approved = ('Pricing, Delivery_Terms_Approved','first'),\\\n",
    "                                                 Pricing_Delivery_Terms_Quote_Appr = ('Pricing, Delivery_Terms_Quote_Appr','first'),\\\n",
    "                                                 Bureaucratic_Code_0_Approval= ('Bureaucratic_Code_0_Approval','first'),\\\n",
    "                                                 Bureaucratic_Code_0_Approved = ('Bureaucratic_Code_0_Approved','first'),\\\n",
    "                                                 Submitted_for_Approval = ('Submitted_for_Approval','first'),\\\n",
    "                                                 Month = ('Month', 'max'),\\\n",
    "                                                 Product_Family=('Product_Family', lambda x: list(x))).reset_index()"
   ]
  },
  {
   "cell_type": "code",
   "execution_count": 21,
   "metadata": {},
   "outputs": [],
   "source": [
    "# agrego variable target\n",
    "#df['TARGET'] = np.where(df['Stage'] != 'Closed Lost', 1, 0)"
   ]
  },
  {
   "cell_type": "code",
   "execution_count": 22,
   "metadata": {},
   "outputs": [],
   "source": [
    "#gruped['Target'] = df.groupby('Opportunity_ID').agg(Target = ('TARGET', 'first'))\n"
   ]
  },
  {
   "cell_type": "code",
   "execution_count": 24,
   "metadata": {},
   "outputs": [
    {
     "data": {
      "text/plain": [
       "(9841, 15)"
      ]
     },
     "execution_count": 24,
     "metadata": {},
     "output_type": "execute_result"
    }
   ],
   "source": [
    "gruped.columns\n",
    "gruped.shape"
   ]
  },
  {
   "cell_type": "code",
   "execution_count": 25,
   "metadata": {},
   "outputs": [],
   "source": [
    "# Se agrega una variable random booleana como control para la seleccion de variables \n",
    "gruped['random_feature'] = np.random.randint(2, size=9841)"
   ]
  },
  {
   "cell_type": "markdown",
   "metadata": {},
   "source": [
    "## Post-processing: despues de  agrupar"
   ]
  },
  {
   "cell_type": "markdown",
   "metadata": {},
   "source": [
    "### Varable Total_Taxable_Amount"
   ]
  },
  {
   "cell_type": "code",
   "execution_count": 26,
   "metadata": {},
   "outputs": [
    {
     "data": {
      "text/plain": [
       "734"
      ]
     },
     "execution_count": 26,
     "metadata": {},
     "output_type": "execute_result"
    }
   ],
   "source": [
    "gruped.loc[gruped['Total_Taxable_Amount'] == 0,].shape[0] # 734 valores \n",
    "gruped['Total_Taxable_Amount'].isna().sum() # no hay vaores NaN \n",
    "# reemplazo nan por cero\n",
    "gruped['Total_Taxable_Amount'].replace(np.nan, 0,  inplace=True)\n",
    "# compruebo\n",
    "gruped.loc[gruped['Total_Taxable_Amount'] == 0,].shape[0] # 734 valores con valor cero"
   ]
  },
  {
   "cell_type": "code",
   "execution_count": 27,
   "metadata": {},
   "outputs": [
    {
     "data": {
      "text/plain": [
       "0"
      ]
     },
     "execution_count": 27,
     "metadata": {},
     "output_type": "execute_result"
    }
   ],
   "source": [
    "# completo los valores cero por la suma de Total_Amount\n",
    "gruped['Total_Taxable_Amount'] = gruped.apply(lambda x: x['Total_Amount_sum'] if x['Total_Taxable_Amount'] == 0 \\\n",
    "                                                                        else x['Total_Taxable_Amount'], axis=1)\n",
    "\n",
    "gruped.loc[gruped['Total_Taxable_Amount'] == 0,].shape[0]"
   ]
  },
  {
   "cell_type": "markdown",
   "metadata": {},
   "source": [
    "### Sanity checks Variables Temporales"
   ]
  },
  {
   "cell_type": "code",
   "execution_count": 28,
   "metadata": {},
   "outputs": [
    {
     "data": {
      "text/plain": [
       "[(2208, 'Planned_Delivery_End_Date')]"
      ]
     },
     "execution_count": 28,
     "metadata": {},
     "output_type": "execute_result"
    }
   ],
   "source": [
    "# anios entre 2013-2018 de todas las columnas fechas de interes\n",
    "bad_years = []\n",
    "for column_year in ['Opportunity_Created_Date', 'Account_Created_Date', 'Planned_Delivery_End_Date']:\n",
    "    #print(column_year)\n",
    "    for year in gruped[column_year].dt.year:\n",
    "        if (year > 2021) | (year < 2013) :\n",
    "            bad_years.append((year, column_year ))\n",
    "bad_years\n",
    "\n"
   ]
  },
  {
   "cell_type": "code",
   "execution_count": 29,
   "metadata": {},
   "outputs": [],
   "source": [
    "gruped.loc[gruped['Planned_Delivery_End_Date'].dt.year == 2208,]\n",
    "# remuevo dato erroneo\n",
    "gruped= gruped[~(gruped['Planned_Delivery_End_Date'].dt.year == 2208)]"
   ]
  },
  {
   "cell_type": "code",
   "execution_count": 30,
   "metadata": {},
   "outputs": [
    {
     "name": "stdout",
     "output_type": "stream",
     "text": [
      "50\n",
      "0\n",
      "75\n",
      "0\n"
     ]
    }
   ],
   "source": [
    "# Account_Created_Date <= Planned_Delivery_End_Date, entrega del producto posterior o igual a la creacion de la cuenta\n",
    "condition_2 = (gruped['Opportunity_Created_Date'] <= gruped['Planned_Delivery_End_Date'])\n",
    "print(9840 -condition_2.sum()) # 50 \n",
    "gruped['Planned_Delivery_End_Date'] = gruped.apply(lambda x: x['Opportunity_Created_Date'] if (x['Opportunity_Created_Date'] > x['Planned_Delivery_End_Date']) else x['Planned_Delivery_End_Date'], axis=1) \n",
    "condition_2 = (gruped['Opportunity_Created_Date'] <= gruped['Planned_Delivery_End_Date'])\n",
    "print(9840 -condition_2.sum()) # 0\n",
    "\n",
    "# Account_Created_Date <= Opportunity_Created_Date, creacion de la cuenta anterior o mismo tiempo que la oportunidad\n",
    "condition_3 = (gruped['Account_Created_Date'] <= gruped['Opportunity_Created_Date'])\n",
    "print(9840 - condition_3.sum())  # 75\n",
    "gruped['Account_Created_Date'] = gruped.apply(lambda x: x['Opportunity_Created_Date'] if (x['Opportunity_Created_Date'] < x['Account_Created_Date']) else x['Account_Created_Date'], axis=1) \n",
    "condition_3 = (gruped['Account_Created_Date'] <= gruped['Opportunity_Created_Date'])\n",
    "print(9840 - condition_3.sum())  # 0"
   ]
  },
  {
   "cell_type": "markdown",
   "metadata": {},
   "source": [
    "## Feature Engineering"
   ]
  },
  {
   "cell_type": "markdown",
   "metadata": {},
   "source": [
    "### Creacion de Variables"
   ]
  },
  {
   "cell_type": "markdown",
   "metadata": {},
   "source": [
    "### Antiguedad de la cuenta"
   ]
  },
  {
   "cell_type": "code",
   "execution_count": 31,
   "metadata": {},
   "outputs": [],
   "source": [
    "# creo la nueva variable antiguedad de la cuenta (meses)\n",
    "gruped['antiguedad_cuenta'] = round((gruped['Opportunity_Created_Date'] -\\\n",
    "                                     gruped['Account_Created_Date']).dt.days / 30, 2)"
   ]
  },
  {
   "cell_type": "markdown",
   "metadata": {},
   "source": [
    "### Tiempo de Entrega Maximo"
   ]
  },
  {
   "cell_type": "code",
   "execution_count": 32,
   "metadata": {},
   "outputs": [
    {
     "name": "stdout",
     "output_type": "stream",
     "text": [
      "0\n",
      "80\n"
     ]
    }
   ],
   "source": [
    "gruped['tiempo_entrega_max'] = (gruped['Planned_Delivery_End_Date'] -\\\n",
    "                                gruped['Opportunity_Created_Date']).dt.days\n",
    "\n",
    "print(gruped[gruped['tiempo_entrega_max'] < 0].shape[0]) \n",
    "print(gruped[gruped['tiempo_entrega_max'] == 0].shape[0]) # 80 valores con cero\n"
   ]
  },
  {
   "cell_type": "code",
   "execution_count": null,
   "metadata": {},
   "outputs": [],
   "source": [
    "# target Encoding\n",
    "\n",
    "def traget_encoding()"
   ]
  },
  {
   "cell_type": "markdown",
   "metadata": {},
   "source": [
    "### Product Family\n",
    "\n",
    "(viene de la notebook explore_data)"
   ]
  },
  {
   "cell_type": "code",
   "execution_count": 33,
   "metadata": {},
   "outputs": [],
   "source": [
    "gruped_family_product = df.groupby('Product_Family')\\\n",
    "                                .agg({'Target':'mean',\n",
    "                                      'Opportunity_ID': 'nunique'})"
   ]
  },
  {
   "cell_type": "code",
   "execution_count": 37,
   "metadata": {},
   "outputs": [],
   "source": [
    "\n",
    "code_map = dict()    # guarda el mapeo entre valores origibales y encoded\n",
    "\n",
    "\n",
    "smooth = 10   # cantidad de casos que considero como valido\n",
    "\n",
    "n = gruped_family_product['Opportunity_ID']\n",
    "\n",
    "global_mu =  gruped_family_product['Target'].mean()  # promedio p tasa de exito de las familias\n",
    "\n",
    "\n",
    "mu = gruped_family_product['Target']\n",
    "\n",
    "mu_smoothed = (n * mu + smooth * global_mu) / (n + smooth)\n",
    "\n",
    "\n",
    "code_map = mu_smoothed.to_dict()\n"
   ]
  },
  {
   "cell_type": "code",
   "execution_count": null,
   "metadata": {},
   "outputs": [],
   "source": []
  },
  {
   "cell_type": "code",
   "execution_count": 39,
   "metadata": {},
   "outputs": [],
   "source": [
    "helper = gruped.assign(Product_Family_Mean=[[code_map[k] for k in row if code_map.get(k)]\\\n",
    "                                            for row in gruped['Product_Family']])\n",
    "\n",
    "helper = gruped.assign(Product_Family_Mean=[[code_map[k] for k in row if code_map.get(k) else \\\n",
    "                                            for row in gruped['Product_Family']])\n",
    "\n",
    "helper['Product_Family_Mean_sin_duplicados'] = helper['Product_Family_Mean']\\\n",
    "                                            .map(lambda x: list(dict.fromkeys(x)))"
   ]
  },
  {
   "cell_type": "code",
   "execution_count": 192,
   "metadata": {
    "scrolled": false
   },
   "outputs": [
    {
     "data": {
      "text/html": [
       "<div>\n",
       "<style scoped>\n",
       "    .dataframe tbody tr th:only-of-type {\n",
       "        vertical-align: middle;\n",
       "    }\n",
       "\n",
       "    .dataframe tbody tr th {\n",
       "        vertical-align: top;\n",
       "    }\n",
       "\n",
       "    .dataframe thead th {\n",
       "        text-align: right;\n",
       "    }\n",
       "</style>\n",
       "<table border=\"1\" class=\"dataframe\">\n",
       "  <thead>\n",
       "    <tr style=\"text-align: right;\">\n",
       "      <th></th>\n",
       "      <th>Opportunity_ID</th>\n",
       "      <th>Total_Taxable_Amount</th>\n",
       "      <th>Total_Amount_sum</th>\n",
       "      <th>Region</th>\n",
       "      <th>Target</th>\n",
       "      <th>Opportunity_Created_Date</th>\n",
       "      <th>Account_Created_Date</th>\n",
       "      <th>Planned_Delivery_End_Date</th>\n",
       "      <th>Pricing_Delivery_Terms_Approved</th>\n",
       "      <th>Pricing_Delivery_Terms_Quote_Appr</th>\n",
       "      <th>...</th>\n",
       "      <th>Bureaucratic_Code_0_Approved</th>\n",
       "      <th>Submitted_for_Approval</th>\n",
       "      <th>Month</th>\n",
       "      <th>Product_Family</th>\n",
       "      <th>random_feature</th>\n",
       "      <th>antiguedad_cuenta</th>\n",
       "      <th>tiempo_entrega_max</th>\n",
       "      <th>Product_Family_Mean</th>\n",
       "      <th>Product_Family_Mean_sin_duplicados</th>\n",
       "      <th>Product_Family_encoded</th>\n",
       "    </tr>\n",
       "  </thead>\n",
       "  <tbody>\n",
       "    <tr>\n",
       "      <th>0</th>\n",
       "      <td>0</td>\n",
       "      <td>5272800.00</td>\n",
       "      <td>5272800.00</td>\n",
       "      <td>EMEA</td>\n",
       "      <td>0</td>\n",
       "      <td>2015-12-07</td>\n",
       "      <td>2015-06-16</td>\n",
       "      <td>2016-06-30</td>\n",
       "      <td>1</td>\n",
       "      <td>1</td>\n",
       "      <td>...</td>\n",
       "      <td>1</td>\n",
       "      <td>0</td>\n",
       "      <td>5</td>\n",
       "      <td>[Product_Family_77]</td>\n",
       "      <td>0</td>\n",
       "      <td>5.80</td>\n",
       "      <td>206</td>\n",
       "      <td>[0.48959230583554847]</td>\n",
       "      <td>[0.48959230583554847]</td>\n",
       "      <td>0.489592</td>\n",
       "    </tr>\n",
       "    <tr>\n",
       "      <th>1</th>\n",
       "      <td>1</td>\n",
       "      <td>48230.00</td>\n",
       "      <td>48230.00</td>\n",
       "      <td>EMEA</td>\n",
       "      <td>1</td>\n",
       "      <td>2015-12-07</td>\n",
       "      <td>2015-06-16</td>\n",
       "      <td>2016-01-20</td>\n",
       "      <td>0</td>\n",
       "      <td>0</td>\n",
       "      <td>...</td>\n",
       "      <td>0</td>\n",
       "      <td>0</td>\n",
       "      <td>1</td>\n",
       "      <td>[Product_Family_77]</td>\n",
       "      <td>1</td>\n",
       "      <td>5.80</td>\n",
       "      <td>44</td>\n",
       "      <td>[0.48959230583554847]</td>\n",
       "      <td>[0.48959230583554847]</td>\n",
       "      <td>0.489592</td>\n",
       "    </tr>\n",
       "    <tr>\n",
       "      <th>2</th>\n",
       "      <td>2</td>\n",
       "      <td>83865.60</td>\n",
       "      <td>83865.60</td>\n",
       "      <td>Americas</td>\n",
       "      <td>1</td>\n",
       "      <td>2015-12-08</td>\n",
       "      <td>2015-04-21</td>\n",
       "      <td>2016-01-25</td>\n",
       "      <td>0</td>\n",
       "      <td>0</td>\n",
       "      <td>...</td>\n",
       "      <td>0</td>\n",
       "      <td>0</td>\n",
       "      <td>1</td>\n",
       "      <td>[Product_Family_81]</td>\n",
       "      <td>1</td>\n",
       "      <td>7.70</td>\n",
       "      <td>48</td>\n",
       "      <td>[0.7422486260683915]</td>\n",
       "      <td>[0.7422486260683915]</td>\n",
       "      <td>0.742249</td>\n",
       "    </tr>\n",
       "    <tr>\n",
       "      <th>3</th>\n",
       "      <td>3</td>\n",
       "      <td>7421881.50</td>\n",
       "      <td>7421881.50</td>\n",
       "      <td>Americas</td>\n",
       "      <td>0</td>\n",
       "      <td>2015-12-08</td>\n",
       "      <td>2013-07-27</td>\n",
       "      <td>2018-03-31</td>\n",
       "      <td>0</td>\n",
       "      <td>1</td>\n",
       "      <td>...</td>\n",
       "      <td>0</td>\n",
       "      <td>0</td>\n",
       "      <td>2</td>\n",
       "      <td>[Product_Family_209]</td>\n",
       "      <td>1</td>\n",
       "      <td>28.80</td>\n",
       "      <td>844</td>\n",
       "      <td>[0.2580788017886773]</td>\n",
       "      <td>[0.2580788017886773]</td>\n",
       "      <td>0.258079</td>\n",
       "    </tr>\n",
       "    <tr>\n",
       "      <th>4</th>\n",
       "      <td>4</td>\n",
       "      <td>13357192.50</td>\n",
       "      <td>13357192.50</td>\n",
       "      <td>Americas</td>\n",
       "      <td>0</td>\n",
       "      <td>2015-12-08</td>\n",
       "      <td>2013-07-27</td>\n",
       "      <td>2018-02-28</td>\n",
       "      <td>0</td>\n",
       "      <td>1</td>\n",
       "      <td>...</td>\n",
       "      <td>0</td>\n",
       "      <td>0</td>\n",
       "      <td>2</td>\n",
       "      <td>[Product_Family_209]</td>\n",
       "      <td>1</td>\n",
       "      <td>28.80</td>\n",
       "      <td>813</td>\n",
       "      <td>[0.2580788017886773]</td>\n",
       "      <td>[0.2580788017886773]</td>\n",
       "      <td>0.258079</td>\n",
       "    </tr>\n",
       "    <tr>\n",
       "      <th>...</th>\n",
       "      <td>...</td>\n",
       "      <td>...</td>\n",
       "      <td>...</td>\n",
       "      <td>...</td>\n",
       "      <td>...</td>\n",
       "      <td>...</td>\n",
       "      <td>...</td>\n",
       "      <td>...</td>\n",
       "      <td>...</td>\n",
       "      <td>...</td>\n",
       "      <td>...</td>\n",
       "      <td>...</td>\n",
       "      <td>...</td>\n",
       "      <td>...</td>\n",
       "      <td>...</td>\n",
       "      <td>...</td>\n",
       "      <td>...</td>\n",
       "      <td>...</td>\n",
       "      <td>...</td>\n",
       "      <td>...</td>\n",
       "      <td>...</td>\n",
       "    </tr>\n",
       "    <tr>\n",
       "      <th>9836</th>\n",
       "      <td>12799</td>\n",
       "      <td>401700.00</td>\n",
       "      <td>401700.00</td>\n",
       "      <td>EMEA</td>\n",
       "      <td>1</td>\n",
       "      <td>2015-12-04</td>\n",
       "      <td>2013-07-27</td>\n",
       "      <td>2016-04-21</td>\n",
       "      <td>1</td>\n",
       "      <td>1</td>\n",
       "      <td>...</td>\n",
       "      <td>0</td>\n",
       "      <td>0</td>\n",
       "      <td>4</td>\n",
       "      <td>[Product_Family_77]</td>\n",
       "      <td>1</td>\n",
       "      <td>28.67</td>\n",
       "      <td>139</td>\n",
       "      <td>[0.48959230583554847]</td>\n",
       "      <td>[0.48959230583554847]</td>\n",
       "      <td>0.311241</td>\n",
       "    </tr>\n",
       "    <tr>\n",
       "      <th>9837</th>\n",
       "      <td>12800</td>\n",
       "      <td>21332500.00</td>\n",
       "      <td>21332500.00</td>\n",
       "      <td>Americas</td>\n",
       "      <td>0</td>\n",
       "      <td>2015-12-04</td>\n",
       "      <td>2014-06-16</td>\n",
       "      <td>2016-12-30</td>\n",
       "      <td>0</td>\n",
       "      <td>1</td>\n",
       "      <td>...</td>\n",
       "      <td>0</td>\n",
       "      <td>0</td>\n",
       "      <td>10</td>\n",
       "      <td>[Product_Family_164, Product_Family_158]</td>\n",
       "      <td>1</td>\n",
       "      <td>17.87</td>\n",
       "      <td>392</td>\n",
       "      <td>[0.30048219020958444, 0.32199988778805594]</td>\n",
       "      <td>[0.30048219020958444, 0.32199988778805594]</td>\n",
       "      <td>0.569936</td>\n",
       "    </tr>\n",
       "    <tr>\n",
       "      <th>9838</th>\n",
       "      <td>12801</td>\n",
       "      <td>299715.00</td>\n",
       "      <td>299715.00</td>\n",
       "      <td>EMEA</td>\n",
       "      <td>1</td>\n",
       "      <td>2015-12-04</td>\n",
       "      <td>2015-12-04</td>\n",
       "      <td>2016-04-08</td>\n",
       "      <td>1</td>\n",
       "      <td>1</td>\n",
       "      <td>...</td>\n",
       "      <td>1</td>\n",
       "      <td>0</td>\n",
       "      <td>4</td>\n",
       "      <td>[Product_Family_85, Product_Family_85, Product...</td>\n",
       "      <td>1</td>\n",
       "      <td>0.00</td>\n",
       "      <td>126</td>\n",
       "      <td>[0.569935529749754, 0.569935529749754, 0.56993...</td>\n",
       "      <td>[0.569935529749754]</td>\n",
       "      <td>0.322000</td>\n",
       "    </tr>\n",
       "    <tr>\n",
       "      <th>9839</th>\n",
       "      <td>12802</td>\n",
       "      <td>2346796.88</td>\n",
       "      <td>2346796.88</td>\n",
       "      <td>Americas</td>\n",
       "      <td>0</td>\n",
       "      <td>2015-12-05</td>\n",
       "      <td>2015-10-20</td>\n",
       "      <td>2016-04-29</td>\n",
       "      <td>1</td>\n",
       "      <td>1</td>\n",
       "      <td>...</td>\n",
       "      <td>1</td>\n",
       "      <td>0</td>\n",
       "      <td>4</td>\n",
       "      <td>[Product_Family_158]</td>\n",
       "      <td>1</td>\n",
       "      <td>1.53</td>\n",
       "      <td>146</td>\n",
       "      <td>[0.32199988778805594]</td>\n",
       "      <td>[0.32199988778805594]</td>\n",
       "      <td>0.300482</td>\n",
       "    </tr>\n",
       "    <tr>\n",
       "      <th>9840</th>\n",
       "      <td>12803</td>\n",
       "      <td>25603200.00</td>\n",
       "      <td>25603200.00</td>\n",
       "      <td>Americas</td>\n",
       "      <td>0</td>\n",
       "      <td>2015-12-05</td>\n",
       "      <td>2015-09-03</td>\n",
       "      <td>2016-08-31</td>\n",
       "      <td>1</td>\n",
       "      <td>1</td>\n",
       "      <td>...</td>\n",
       "      <td>1</td>\n",
       "      <td>0</td>\n",
       "      <td>7</td>\n",
       "      <td>[Product_Family_164]</td>\n",
       "      <td>1</td>\n",
       "      <td>3.10</td>\n",
       "      <td>270</td>\n",
       "      <td>[0.30048219020958444]</td>\n",
       "      <td>[0.30048219020958444]</td>\n",
       "      <td>NaN</td>\n",
       "    </tr>\n",
       "  </tbody>\n",
       "</table>\n",
       "<p>9840 rows × 21 columns</p>\n",
       "</div>"
      ],
      "text/plain": [
       "      Opportunity_ID  Total_Taxable_Amount  Total_Amount_sum    Region  \\\n",
       "0                  0            5272800.00        5272800.00      EMEA   \n",
       "1                  1              48230.00          48230.00      EMEA   \n",
       "2                  2              83865.60          83865.60  Americas   \n",
       "3                  3            7421881.50        7421881.50  Americas   \n",
       "4                  4           13357192.50       13357192.50  Americas   \n",
       "...              ...                   ...               ...       ...   \n",
       "9836           12799             401700.00         401700.00      EMEA   \n",
       "9837           12800           21332500.00       21332500.00  Americas   \n",
       "9838           12801             299715.00         299715.00      EMEA   \n",
       "9839           12802            2346796.88        2346796.88  Americas   \n",
       "9840           12803           25603200.00       25603200.00  Americas   \n",
       "\n",
       "      Target Opportunity_Created_Date Account_Created_Date  \\\n",
       "0          0               2015-12-07           2015-06-16   \n",
       "1          1               2015-12-07           2015-06-16   \n",
       "2          1               2015-12-08           2015-04-21   \n",
       "3          0               2015-12-08           2013-07-27   \n",
       "4          0               2015-12-08           2013-07-27   \n",
       "...      ...                      ...                  ...   \n",
       "9836       1               2015-12-04           2013-07-27   \n",
       "9837       0               2015-12-04           2014-06-16   \n",
       "9838       1               2015-12-04           2015-12-04   \n",
       "9839       0               2015-12-05           2015-10-20   \n",
       "9840       0               2015-12-05           2015-09-03   \n",
       "\n",
       "     Planned_Delivery_End_Date  Pricing_Delivery_Terms_Approved  \\\n",
       "0                   2016-06-30                                1   \n",
       "1                   2016-01-20                                0   \n",
       "2                   2016-01-25                                0   \n",
       "3                   2018-03-31                                0   \n",
       "4                   2018-02-28                                0   \n",
       "...                        ...                              ...   \n",
       "9836                2016-04-21                                1   \n",
       "9837                2016-12-30                                0   \n",
       "9838                2016-04-08                                1   \n",
       "9839                2016-04-29                                1   \n",
       "9840                2016-08-31                                1   \n",
       "\n",
       "      Pricing_Delivery_Terms_Quote_Appr  ...  Bureaucratic_Code_0_Approved  \\\n",
       "0                                     1  ...                             1   \n",
       "1                                     0  ...                             0   \n",
       "2                                     0  ...                             0   \n",
       "3                                     1  ...                             0   \n",
       "4                                     1  ...                             0   \n",
       "...                                 ...  ...                           ...   \n",
       "9836                                  1  ...                             0   \n",
       "9837                                  1  ...                             0   \n",
       "9838                                  1  ...                             1   \n",
       "9839                                  1  ...                             1   \n",
       "9840                                  1  ...                             1   \n",
       "\n",
       "      Submitted_for_Approval  Month  \\\n",
       "0                          0      5   \n",
       "1                          0      1   \n",
       "2                          0      1   \n",
       "3                          0      2   \n",
       "4                          0      2   \n",
       "...                      ...    ...   \n",
       "9836                       0      4   \n",
       "9837                       0     10   \n",
       "9838                       0      4   \n",
       "9839                       0      4   \n",
       "9840                       0      7   \n",
       "\n",
       "                                         Product_Family random_feature  \\\n",
       "0                                   [Product_Family_77]              0   \n",
       "1                                   [Product_Family_77]              1   \n",
       "2                                   [Product_Family_81]              1   \n",
       "3                                  [Product_Family_209]              1   \n",
       "4                                  [Product_Family_209]              1   \n",
       "...                                                 ...            ...   \n",
       "9836                                [Product_Family_77]              1   \n",
       "9837           [Product_Family_164, Product_Family_158]              1   \n",
       "9838  [Product_Family_85, Product_Family_85, Product...              1   \n",
       "9839                               [Product_Family_158]              1   \n",
       "9840                               [Product_Family_164]              1   \n",
       "\n",
       "      antiguedad_cuenta  tiempo_entrega_max  \\\n",
       "0                  5.80                 206   \n",
       "1                  5.80                  44   \n",
       "2                  7.70                  48   \n",
       "3                 28.80                 844   \n",
       "4                 28.80                 813   \n",
       "...                 ...                 ...   \n",
       "9836              28.67                 139   \n",
       "9837              17.87                 392   \n",
       "9838               0.00                 126   \n",
       "9839               1.53                 146   \n",
       "9840               3.10                 270   \n",
       "\n",
       "                                    Product_Family_Mean  \\\n",
       "0                                 [0.48959230583554847]   \n",
       "1                                 [0.48959230583554847]   \n",
       "2                                  [0.7422486260683915]   \n",
       "3                                  [0.2580788017886773]   \n",
       "4                                  [0.2580788017886773]   \n",
       "...                                                 ...   \n",
       "9836                              [0.48959230583554847]   \n",
       "9837         [0.30048219020958444, 0.32199988778805594]   \n",
       "9838  [0.569935529749754, 0.569935529749754, 0.56993...   \n",
       "9839                              [0.32199988778805594]   \n",
       "9840                              [0.30048219020958444]   \n",
       "\n",
       "              Product_Family_Mean_sin_duplicados Product_Family_encoded  \n",
       "0                          [0.48959230583554847]               0.489592  \n",
       "1                          [0.48959230583554847]               0.489592  \n",
       "2                           [0.7422486260683915]               0.742249  \n",
       "3                           [0.2580788017886773]               0.258079  \n",
       "4                           [0.2580788017886773]               0.258079  \n",
       "...                                          ...                    ...  \n",
       "9836                       [0.48959230583554847]               0.311241  \n",
       "9837  [0.30048219020958444, 0.32199988778805594]               0.569936  \n",
       "9838                         [0.569935529749754]               0.322000  \n",
       "9839                       [0.32199988778805594]               0.300482  \n",
       "9840                       [0.30048219020958444]                    NaN  \n",
       "\n",
       "[9840 rows x 21 columns]"
      ]
     },
     "execution_count": 192,
     "metadata": {},
     "output_type": "execute_result"
    }
   ],
   "source": [
    "helper"
   ]
  },
  {
   "cell_type": "code",
   "execution_count": 41,
   "metadata": {},
   "outputs": [],
   "source": [
    "gruped['Product_Family'] = helper['Product_Family_Mean_sin_duplicados'].map(lambda x: sum(x) / len(x))\n"
   ]
  },
  {
   "cell_type": "markdown",
   "metadata": {},
   "source": [
    "### training y test set\n"
   ]
  },
  {
   "cell_type": "code",
   "execution_count": 239,
   "metadata": {},
   "outputs": [],
   "source": [
    "from sklearn.model_selection import train_test_split"
   ]
  },
  {
   "cell_type": "code",
   "execution_count": 257,
   "metadata": {},
   "outputs": [],
   "source": [
    "helper = gruped.copy()"
   ]
  },
  {
   "cell_type": "code",
   "execution_count": 258,
   "metadata": {},
   "outputs": [
    {
     "data": {
      "text/plain": [
       "Index(['Opportunity_ID', 'Total_Taxable_Amount', 'Total_Amount_sum', 'Region',\n",
       "       'Target', 'Opportunity_Created_Date', 'Account_Created_Date',\n",
       "       'Planned_Delivery_End_Date', 'Pricing_Delivery_Terms_Approved',\n",
       "       'Pricing_Delivery_Terms_Quote_Appr', 'Bureaucratic_Code_0_Approval',\n",
       "       'Bureaucratic_Code_0_Approved', 'Submitted_for_Approval', 'Month',\n",
       "       'Product_Family', 'random_feature', 'antiguedad_cuenta',\n",
       "       'tiempo_entrega_max'],\n",
       "      dtype='object')"
      ]
     },
     "execution_count": 258,
     "metadata": {},
     "output_type": "execute_result"
    }
   ],
   "source": [
    "helper.columns"
   ]
  },
  {
   "cell_type": "code",
   "execution_count": 259,
   "metadata": {},
   "outputs": [
    {
     "data": {
      "text/plain": [
       "Index(['Opportunity_ID', 'Total_Taxable_Amount', 'Region', 'antiguedad_cuenta',\n",
       "       'tiempo_entrega_max', 'Pricing_Delivery_Terms_Approved',\n",
       "       'Pricing_Delivery_Terms_Quote_Appr', 'Bureaucratic_Code_0_Approval',\n",
       "       'Bureaucratic_Code_0_Approved', 'Submitted_for_Approval', 'Month',\n",
       "       'Product_Family', 'Target', 'random_feature'],\n",
       "      dtype='object')"
      ]
     },
     "execution_count": 259,
     "metadata": {},
     "output_type": "execute_result"
    }
   ],
   "source": [
    "#helper = helper.loc[:, ['Opportunity_ID','Total_Taxable_Amount', 'Region','antiguedad_cuenta', 'tiempo_entrega_max', 'Target','Pricing_Delivery_Terms_Approved', 'Pricing_Delivery_Terms_Quote_Appr',\n",
    "#                    'Bureaucratic_Code_0_Approval',\n",
    "#                    'Bureaucratic_Code_0_Approved','Submitted_for_Approval', 'Month', 'random_feature']]\n",
    "#helper.columns\n",
    "\n",
    "helper = helper.loc[:, ['Opportunity_ID','Total_Taxable_Amount', 'Region',\\\n",
    "                        'antiguedad_cuenta', 'tiempo_entrega_max', 'Pricing_Delivery_Terms_Approved',\\\n",
    "                        'Pricing_Delivery_Terms_Quote_Appr',\n",
    "                        'Bureaucratic_Code_0_Approval',\n",
    "                        'Bureaucratic_Code_0_Approved','Submitted_for_Approval', 'Month', 'Product_Family','Target','random_feature']]\n",
    "helper.columns"
   ]
  },
  {
   "cell_type": "code",
   "execution_count": 260,
   "metadata": {},
   "outputs": [],
   "source": [
    "X = helper.copy()"
   ]
  },
  {
   "cell_type": "code",
   "execution_count": 261,
   "metadata": {
    "scrolled": true
   },
   "outputs": [
    {
     "data": {
      "text/html": [
       "<div>\n",
       "<style scoped>\n",
       "    .dataframe tbody tr th:only-of-type {\n",
       "        vertical-align: middle;\n",
       "    }\n",
       "\n",
       "    .dataframe tbody tr th {\n",
       "        vertical-align: top;\n",
       "    }\n",
       "\n",
       "    .dataframe thead th {\n",
       "        text-align: right;\n",
       "    }\n",
       "</style>\n",
       "<table border=\"1\" class=\"dataframe\">\n",
       "  <thead>\n",
       "    <tr style=\"text-align: right;\">\n",
       "      <th></th>\n",
       "      <th>Opportunity_ID</th>\n",
       "      <th>Total_Taxable_Amount</th>\n",
       "      <th>Region</th>\n",
       "      <th>antiguedad_cuenta</th>\n",
       "      <th>tiempo_entrega_max</th>\n",
       "      <th>Pricing_Delivery_Terms_Approved</th>\n",
       "      <th>Pricing_Delivery_Terms_Quote_Appr</th>\n",
       "      <th>Bureaucratic_Code_0_Approval</th>\n",
       "      <th>Bureaucratic_Code_0_Approved</th>\n",
       "      <th>Submitted_for_Approval</th>\n",
       "      <th>Month</th>\n",
       "      <th>Product_Family</th>\n",
       "      <th>Target</th>\n",
       "      <th>random_feature</th>\n",
       "    </tr>\n",
       "  </thead>\n",
       "  <tbody>\n",
       "    <tr>\n",
       "      <th>0</th>\n",
       "      <td>0</td>\n",
       "      <td>5272800.00</td>\n",
       "      <td>EMEA</td>\n",
       "      <td>5.80</td>\n",
       "      <td>206</td>\n",
       "      <td>1</td>\n",
       "      <td>1</td>\n",
       "      <td>1</td>\n",
       "      <td>1</td>\n",
       "      <td>0</td>\n",
       "      <td>5</td>\n",
       "      <td>0.489592</td>\n",
       "      <td>0</td>\n",
       "      <td>0</td>\n",
       "    </tr>\n",
       "    <tr>\n",
       "      <th>1</th>\n",
       "      <td>1</td>\n",
       "      <td>48230.00</td>\n",
       "      <td>EMEA</td>\n",
       "      <td>5.80</td>\n",
       "      <td>44</td>\n",
       "      <td>0</td>\n",
       "      <td>0</td>\n",
       "      <td>0</td>\n",
       "      <td>0</td>\n",
       "      <td>0</td>\n",
       "      <td>1</td>\n",
       "      <td>0.489592</td>\n",
       "      <td>1</td>\n",
       "      <td>1</td>\n",
       "    </tr>\n",
       "    <tr>\n",
       "      <th>2</th>\n",
       "      <td>2</td>\n",
       "      <td>83865.60</td>\n",
       "      <td>Americas</td>\n",
       "      <td>7.70</td>\n",
       "      <td>48</td>\n",
       "      <td>0</td>\n",
       "      <td>0</td>\n",
       "      <td>0</td>\n",
       "      <td>0</td>\n",
       "      <td>0</td>\n",
       "      <td>1</td>\n",
       "      <td>0.742249</td>\n",
       "      <td>1</td>\n",
       "      <td>1</td>\n",
       "    </tr>\n",
       "    <tr>\n",
       "      <th>3</th>\n",
       "      <td>3</td>\n",
       "      <td>7421881.50</td>\n",
       "      <td>Americas</td>\n",
       "      <td>28.80</td>\n",
       "      <td>844</td>\n",
       "      <td>0</td>\n",
       "      <td>1</td>\n",
       "      <td>1</td>\n",
       "      <td>0</td>\n",
       "      <td>0</td>\n",
       "      <td>2</td>\n",
       "      <td>0.258079</td>\n",
       "      <td>0</td>\n",
       "      <td>1</td>\n",
       "    </tr>\n",
       "    <tr>\n",
       "      <th>4</th>\n",
       "      <td>4</td>\n",
       "      <td>13357192.50</td>\n",
       "      <td>Americas</td>\n",
       "      <td>28.80</td>\n",
       "      <td>813</td>\n",
       "      <td>0</td>\n",
       "      <td>1</td>\n",
       "      <td>1</td>\n",
       "      <td>0</td>\n",
       "      <td>0</td>\n",
       "      <td>2</td>\n",
       "      <td>0.258079</td>\n",
       "      <td>0</td>\n",
       "      <td>1</td>\n",
       "    </tr>\n",
       "    <tr>\n",
       "      <th>...</th>\n",
       "      <td>...</td>\n",
       "      <td>...</td>\n",
       "      <td>...</td>\n",
       "      <td>...</td>\n",
       "      <td>...</td>\n",
       "      <td>...</td>\n",
       "      <td>...</td>\n",
       "      <td>...</td>\n",
       "      <td>...</td>\n",
       "      <td>...</td>\n",
       "      <td>...</td>\n",
       "      <td>...</td>\n",
       "      <td>...</td>\n",
       "      <td>...</td>\n",
       "    </tr>\n",
       "    <tr>\n",
       "      <th>9836</th>\n",
       "      <td>12799</td>\n",
       "      <td>401700.00</td>\n",
       "      <td>EMEA</td>\n",
       "      <td>28.67</td>\n",
       "      <td>139</td>\n",
       "      <td>1</td>\n",
       "      <td>1</td>\n",
       "      <td>0</td>\n",
       "      <td>0</td>\n",
       "      <td>0</td>\n",
       "      <td>4</td>\n",
       "      <td>0.489592</td>\n",
       "      <td>1</td>\n",
       "      <td>1</td>\n",
       "    </tr>\n",
       "    <tr>\n",
       "      <th>9837</th>\n",
       "      <td>12800</td>\n",
       "      <td>21332500.00</td>\n",
       "      <td>Americas</td>\n",
       "      <td>17.87</td>\n",
       "      <td>392</td>\n",
       "      <td>0</td>\n",
       "      <td>1</td>\n",
       "      <td>0</td>\n",
       "      <td>0</td>\n",
       "      <td>0</td>\n",
       "      <td>10</td>\n",
       "      <td>0.311241</td>\n",
       "      <td>0</td>\n",
       "      <td>1</td>\n",
       "    </tr>\n",
       "    <tr>\n",
       "      <th>9838</th>\n",
       "      <td>12801</td>\n",
       "      <td>299715.00</td>\n",
       "      <td>EMEA</td>\n",
       "      <td>0.00</td>\n",
       "      <td>126</td>\n",
       "      <td>1</td>\n",
       "      <td>1</td>\n",
       "      <td>1</td>\n",
       "      <td>1</td>\n",
       "      <td>0</td>\n",
       "      <td>4</td>\n",
       "      <td>0.569936</td>\n",
       "      <td>1</td>\n",
       "      <td>1</td>\n",
       "    </tr>\n",
       "    <tr>\n",
       "      <th>9839</th>\n",
       "      <td>12802</td>\n",
       "      <td>2346796.88</td>\n",
       "      <td>Americas</td>\n",
       "      <td>1.53</td>\n",
       "      <td>146</td>\n",
       "      <td>1</td>\n",
       "      <td>1</td>\n",
       "      <td>1</td>\n",
       "      <td>1</td>\n",
       "      <td>0</td>\n",
       "      <td>4</td>\n",
       "      <td>0.322000</td>\n",
       "      <td>0</td>\n",
       "      <td>1</td>\n",
       "    </tr>\n",
       "    <tr>\n",
       "      <th>9840</th>\n",
       "      <td>12803</td>\n",
       "      <td>25603200.00</td>\n",
       "      <td>Americas</td>\n",
       "      <td>3.10</td>\n",
       "      <td>270</td>\n",
       "      <td>1</td>\n",
       "      <td>1</td>\n",
       "      <td>1</td>\n",
       "      <td>1</td>\n",
       "      <td>0</td>\n",
       "      <td>7</td>\n",
       "      <td>0.300482</td>\n",
       "      <td>0</td>\n",
       "      <td>1</td>\n",
       "    </tr>\n",
       "  </tbody>\n",
       "</table>\n",
       "<p>9840 rows × 14 columns</p>\n",
       "</div>"
      ],
      "text/plain": [
       "      Opportunity_ID  Total_Taxable_Amount    Region  antiguedad_cuenta  \\\n",
       "0                  0            5272800.00      EMEA               5.80   \n",
       "1                  1              48230.00      EMEA               5.80   \n",
       "2                  2              83865.60  Americas               7.70   \n",
       "3                  3            7421881.50  Americas              28.80   \n",
       "4                  4           13357192.50  Americas              28.80   \n",
       "...              ...                   ...       ...                ...   \n",
       "9836           12799             401700.00      EMEA              28.67   \n",
       "9837           12800           21332500.00  Americas              17.87   \n",
       "9838           12801             299715.00      EMEA               0.00   \n",
       "9839           12802            2346796.88  Americas               1.53   \n",
       "9840           12803           25603200.00  Americas               3.10   \n",
       "\n",
       "      tiempo_entrega_max  Pricing_Delivery_Terms_Approved  \\\n",
       "0                    206                                1   \n",
       "1                     44                                0   \n",
       "2                     48                                0   \n",
       "3                    844                                0   \n",
       "4                    813                                0   \n",
       "...                  ...                              ...   \n",
       "9836                 139                                1   \n",
       "9837                 392                                0   \n",
       "9838                 126                                1   \n",
       "9839                 146                                1   \n",
       "9840                 270                                1   \n",
       "\n",
       "      Pricing_Delivery_Terms_Quote_Appr  Bureaucratic_Code_0_Approval  \\\n",
       "0                                     1                             1   \n",
       "1                                     0                             0   \n",
       "2                                     0                             0   \n",
       "3                                     1                             1   \n",
       "4                                     1                             1   \n",
       "...                                 ...                           ...   \n",
       "9836                                  1                             0   \n",
       "9837                                  1                             0   \n",
       "9838                                  1                             1   \n",
       "9839                                  1                             1   \n",
       "9840                                  1                             1   \n",
       "\n",
       "      Bureaucratic_Code_0_Approved  Submitted_for_Approval  Month  \\\n",
       "0                                1                       0      5   \n",
       "1                                0                       0      1   \n",
       "2                                0                       0      1   \n",
       "3                                0                       0      2   \n",
       "4                                0                       0      2   \n",
       "...                            ...                     ...    ...   \n",
       "9836                             0                       0      4   \n",
       "9837                             0                       0     10   \n",
       "9838                             1                       0      4   \n",
       "9839                             1                       0      4   \n",
       "9840                             1                       0      7   \n",
       "\n",
       "      Product_Family  Target  random_feature  \n",
       "0           0.489592       0               0  \n",
       "1           0.489592       1               1  \n",
       "2           0.742249       1               1  \n",
       "3           0.258079       0               1  \n",
       "4           0.258079       0               1  \n",
       "...              ...     ...             ...  \n",
       "9836        0.489592       1               1  \n",
       "9837        0.311241       0               1  \n",
       "9838        0.569936       1               1  \n",
       "9839        0.322000       0               1  \n",
       "9840        0.300482       0               1  \n",
       "\n",
       "[9840 rows x 14 columns]"
      ]
     },
     "execution_count": 261,
     "metadata": {},
     "output_type": "execute_result"
    }
   ],
   "source": [
    "X"
   ]
  },
  {
   "cell_type": "code",
   "execution_count": 262,
   "metadata": {},
   "outputs": [],
   "source": [
    "X.to_csv('/home/dipa/proyectos/7506-Organizacion-de-Datos/tp_2/notebooks/feature_sample_test.csv')"
   ]
  },
  {
   "cell_type": "code",
   "execution_count": 263,
   "metadata": {},
   "outputs": [],
   "source": [
    "\n",
    "X = helper.drop(['Opportunity_ID','Target'], axis=1)\n",
    "y = helper[['Target']].values.ravel()"
   ]
  },
  {
   "cell_type": "code",
   "execution_count": 264,
   "metadata": {},
   "outputs": [
    {
     "data": {
      "text/html": [
       "<div>\n",
       "<style scoped>\n",
       "    .dataframe tbody tr th:only-of-type {\n",
       "        vertical-align: middle;\n",
       "    }\n",
       "\n",
       "    .dataframe tbody tr th {\n",
       "        vertical-align: top;\n",
       "    }\n",
       "\n",
       "    .dataframe thead th {\n",
       "        text-align: right;\n",
       "    }\n",
       "</style>\n",
       "<table border=\"1\" class=\"dataframe\">\n",
       "  <thead>\n",
       "    <tr style=\"text-align: right;\">\n",
       "      <th></th>\n",
       "      <th>Total_Taxable_Amount</th>\n",
       "      <th>Region</th>\n",
       "      <th>antiguedad_cuenta</th>\n",
       "      <th>tiempo_entrega_max</th>\n",
       "      <th>Pricing_Delivery_Terms_Approved</th>\n",
       "      <th>Pricing_Delivery_Terms_Quote_Appr</th>\n",
       "      <th>Bureaucratic_Code_0_Approval</th>\n",
       "      <th>Bureaucratic_Code_0_Approved</th>\n",
       "      <th>Submitted_for_Approval</th>\n",
       "      <th>Month</th>\n",
       "      <th>Product_Family</th>\n",
       "      <th>random_feature</th>\n",
       "    </tr>\n",
       "  </thead>\n",
       "  <tbody>\n",
       "    <tr>\n",
       "      <th>0</th>\n",
       "      <td>5272800.0</td>\n",
       "      <td>EMEA</td>\n",
       "      <td>5.8</td>\n",
       "      <td>206</td>\n",
       "      <td>1</td>\n",
       "      <td>1</td>\n",
       "      <td>1</td>\n",
       "      <td>1</td>\n",
       "      <td>0</td>\n",
       "      <td>5</td>\n",
       "      <td>0.489592</td>\n",
       "      <td>0</td>\n",
       "    </tr>\n",
       "    <tr>\n",
       "      <th>1</th>\n",
       "      <td>48230.0</td>\n",
       "      <td>EMEA</td>\n",
       "      <td>5.8</td>\n",
       "      <td>44</td>\n",
       "      <td>0</td>\n",
       "      <td>0</td>\n",
       "      <td>0</td>\n",
       "      <td>0</td>\n",
       "      <td>0</td>\n",
       "      <td>1</td>\n",
       "      <td>0.489592</td>\n",
       "      <td>1</td>\n",
       "    </tr>\n",
       "    <tr>\n",
       "      <th>2</th>\n",
       "      <td>83865.6</td>\n",
       "      <td>Americas</td>\n",
       "      <td>7.7</td>\n",
       "      <td>48</td>\n",
       "      <td>0</td>\n",
       "      <td>0</td>\n",
       "      <td>0</td>\n",
       "      <td>0</td>\n",
       "      <td>0</td>\n",
       "      <td>1</td>\n",
       "      <td>0.742249</td>\n",
       "      <td>1</td>\n",
       "    </tr>\n",
       "    <tr>\n",
       "      <th>3</th>\n",
       "      <td>7421881.5</td>\n",
       "      <td>Americas</td>\n",
       "      <td>28.8</td>\n",
       "      <td>844</td>\n",
       "      <td>0</td>\n",
       "      <td>1</td>\n",
       "      <td>1</td>\n",
       "      <td>0</td>\n",
       "      <td>0</td>\n",
       "      <td>2</td>\n",
       "      <td>0.258079</td>\n",
       "      <td>1</td>\n",
       "    </tr>\n",
       "    <tr>\n",
       "      <th>4</th>\n",
       "      <td>13357192.5</td>\n",
       "      <td>Americas</td>\n",
       "      <td>28.8</td>\n",
       "      <td>813</td>\n",
       "      <td>0</td>\n",
       "      <td>1</td>\n",
       "      <td>1</td>\n",
       "      <td>0</td>\n",
       "      <td>0</td>\n",
       "      <td>2</td>\n",
       "      <td>0.258079</td>\n",
       "      <td>1</td>\n",
       "    </tr>\n",
       "  </tbody>\n",
       "</table>\n",
       "</div>"
      ],
      "text/plain": [
       "   Total_Taxable_Amount    Region  antiguedad_cuenta  tiempo_entrega_max  \\\n",
       "0             5272800.0      EMEA                5.8                 206   \n",
       "1               48230.0      EMEA                5.8                  44   \n",
       "2               83865.6  Americas                7.7                  48   \n",
       "3             7421881.5  Americas               28.8                 844   \n",
       "4            13357192.5  Americas               28.8                 813   \n",
       "\n",
       "   Pricing_Delivery_Terms_Approved  Pricing_Delivery_Terms_Quote_Appr  \\\n",
       "0                                1                                  1   \n",
       "1                                0                                  0   \n",
       "2                                0                                  0   \n",
       "3                                0                                  1   \n",
       "4                                0                                  1   \n",
       "\n",
       "   Bureaucratic_Code_0_Approval  Bureaucratic_Code_0_Approved  \\\n",
       "0                             1                             1   \n",
       "1                             0                             0   \n",
       "2                             0                             0   \n",
       "3                             1                             0   \n",
       "4                             1                             0   \n",
       "\n",
       "   Submitted_for_Approval  Month  Product_Family  random_feature  \n",
       "0                       0      5        0.489592               0  \n",
       "1                       0      1        0.489592               1  \n",
       "2                       0      1        0.742249               1  \n",
       "3                       0      2        0.258079               1  \n",
       "4                       0      2        0.258079               1  "
      ]
     },
     "execution_count": 264,
     "metadata": {},
     "output_type": "execute_result"
    }
   ],
   "source": [
    "X.head()"
   ]
  },
  {
   "cell_type": "code",
   "execution_count": 265,
   "metadata": {},
   "outputs": [],
   "source": [
    "X_train, X_test, y_train, y_test = train_test_split(X, y, test_size=0.2)"
   ]
  },
  {
   "cell_type": "code",
   "execution_count": 266,
   "metadata": {},
   "outputs": [
    {
     "data": {
      "text/plain": [
       "Index(['Total_Taxable_Amount', 'Region', 'antiguedad_cuenta',\n",
       "       'tiempo_entrega_max', 'Pricing_Delivery_Terms_Approved',\n",
       "       'Pricing_Delivery_Terms_Quote_Appr', 'Bureaucratic_Code_0_Approval',\n",
       "       'Bureaucratic_Code_0_Approved', 'Submitted_for_Approval', 'Month',\n",
       "       'Product_Family', 'random_feature'],\n",
       "      dtype='object')"
      ]
     },
     "execution_count": 266,
     "metadata": {},
     "output_type": "execute_result"
    }
   ],
   "source": [
    "X_train.columns\n",
    "y_train\n",
    "\n",
    "X_test.columns"
   ]
  },
  {
   "cell_type": "markdown",
   "metadata": {},
   "source": [
    "### Seleccion de Features"
   ]
  },
  {
   "cell_type": "code",
   "execution_count": 267,
   "metadata": {},
   "outputs": [],
   "source": [
    "from sklearn.compose import ColumnTransformer\n",
    "from sklearn.pipeline import Pipeline\n",
    "from sklearn.linear_model import LogisticRegression\n",
    "from sklearn.metrics import roc_auc_score\n",
    "from sklearn.preprocessing import KBinsDiscretizer\n",
    "from sklearn.preprocessing import OneHotEncoder\n",
    "from sklearn.model_selection import cross_val_score\n",
    "from sklearn.model_selection import cross_validate\n",
    "\n",
    "from sklearn.tree import DecisionTreeClassifier\n",
    "from sklearn import tree\n",
    "\n",
    "from sklearn.preprocessing import FunctionTransformer\n",
    "Log10 = FunctionTransformer(np.log10, validate=True)"
   ]
  },
  {
   "cell_type": "code",
   "execution_count": null,
   "metadata": {},
   "outputs": [],
   "source": [
    "# Modelo Lineal\n",
    "\n",
    "#from sklearn.preprocessing import FunctionTransformer\n",
    "#Log10 = FunctionTransformer(np.log10, validate=True)\n",
    "\n",
    "\n",
    "#ct = ColumnTransformer(\n",
    "#    [(\"total_Taxable_Amount\", log10, [1])])\n",
    "\n",
    "\n",
    "#pipeline = Pipeline([\n",
    "#    ('ct', ct),\n",
    "#    ('LgR', LogisticRegression())\n",
    "#])\n",
    "\n",
    "\n",
    "#ct = ColumnTransformer(\n",
    "#                        [\n",
    "#                            (\"total_Taxable_Amount\", log10, [1]),\n",
    "#                            (\"Region\", OneHotEncoder(),[3]),\n",
    "#                            ('antiguedad_cuenta', KBinsDiscretizer(n_bins=20, strategy='quantile',encode='ordinal'), [7,8])\n",
    "#                        ]\n",
    "#                      )\n",
    "\n",
    "\n",
    "#pipeline = Pipeline([\n",
    "#    ('ct', ct),\n",
    "#    ('std', StandardScaler()),\n",
    "#    ('LogReg', LogisticRegression(solver='lbfgs', max_iter=400))\n",
    "#])\n",
    "\n",
    "### chequear pipeline\n",
    "\n",
    "#pipeline.fit(X_train,y_train)\n",
    "\n",
    "#print('train_auc:', roc_auc_score(y_train, pipeline.predict_proba(X_train)[:, 1]))\n",
    "#print('test_auc:',  roc_auc_score(y_test, pipeline.predict_proba(X_test)[:, 1]))\n",
    "\n",
    "\n"
   ]
  },
  {
   "cell_type": "code",
   "execution_count": 33,
   "metadata": {},
   "outputs": [],
   "source": [
    "#from sklearn.preprocessing import FunctionTransformer\n",
    "#Log10 = FunctionTransformer(np.log10, validate=True)"
   ]
  },
  {
   "cell_type": "code",
   "execution_count": 268,
   "metadata": {},
   "outputs": [],
   "source": [
    "# Modelo no lineal: Arbol simple\n",
    "\n",
    "column_transformer = ColumnTransformer(\n",
    "                        [\n",
    "                            (\"total_Taxable_Amount\", Log10, [0]),\n",
    "                            (\"Region\", OneHotEncoder(),[1]),\n",
    "                            ('binning', KBinsDiscretizer(n_bins=20, strategy='quantile',encode='ordinal'), [2,3])\n",
    "                        ], remainder= 'passthrough'\n",
    "                      )\n",
    "\n",
    "\n",
    "pipeline = Pipeline([\n",
    "    ('ct',column_transformer),\n",
    "    ('Tree_clf',DecisionTreeClassifier(max_depth=10, min_samples_split=20, min_samples_leaf=10))\n",
    "])\n"
   ]
  },
  {
   "cell_type": "code",
   "execution_count": 45,
   "metadata": {},
   "outputs": [
    {
     "name": "stderr",
     "output_type": "stream",
     "text": [
      "/home/dipa/proyectos/7506-Organizacion-de-Datos/lib/python3.6/site-packages/sklearn/preprocessing/_discretization.py:202: UserWarning: Bins whose width are too small (i.e., <= 1e-8) in feature 0 are removed. Consider decreasing the number of bins.\n",
      "  'decreasing the number of bins.' % jj)\n"
     ]
    }
   ],
   "source": [
    "#from sklearn.pipeline import make_union\n",
    "\n",
    "#pipe = make_pipeline( \n",
    "#    make_union(\n",
    "#        column_transformer\n",
    "#    ),\n",
    "\n",
    "#    DecisionTreeClassifier(max_depth=10, min_samples_split=20, min_samples_leaf=10)\n",
    "#)\n",
    "\n",
    "#pipe.fit(X_train, y_train);"
   ]
  },
  {
   "cell_type": "code",
   "execution_count": 269,
   "metadata": {},
   "outputs": [
    {
     "name": "stderr",
     "output_type": "stream",
     "text": [
      "/home/dipa/proyectos/7506-Organizacion-de-Datos/lib/python3.6/site-packages/sklearn/preprocessing/_discretization.py:202: UserWarning: Bins whose width are too small (i.e., <= 1e-8) in feature 0 are removed. Consider decreasing the number of bins.\n",
      "  'decreasing the number of bins.' % jj)\n"
     ]
    },
    {
     "data": {
      "text/plain": [
       "Pipeline(steps=[('ct',\n",
       "                 ColumnTransformer(remainder='passthrough',\n",
       "                                   transformers=[('total_Taxable_Amount',\n",
       "                                                  FunctionTransformer(func=<ufunc 'log10'>,\n",
       "                                                                      validate=True),\n",
       "                                                  [0]),\n",
       "                                                 ('Region', OneHotEncoder(),\n",
       "                                                  [1]),\n",
       "                                                 ('binning',\n",
       "                                                  KBinsDiscretizer(encode='ordinal',\n",
       "                                                                   n_bins=20),\n",
       "                                                  [2, 3])])),\n",
       "                ('Tree_clf',\n",
       "                 DecisionTreeClassifier(max_depth=10, min_samples_leaf=10,\n",
       "                                        min_samples_split=20))])"
      ]
     },
     "execution_count": 269,
     "metadata": {},
     "output_type": "execute_result"
    }
   ],
   "source": [
    "pipeline.fit(X_train,y_train)"
   ]
  },
  {
   "cell_type": "code",
   "execution_count": 270,
   "metadata": {},
   "outputs": [
    {
     "name": "stdout",
     "output_type": "stream",
     "text": [
      "train_auc: 0.9262017099189459\n",
      "test_auc: 0.8296007789678677\n"
     ]
    }
   ],
   "source": [
    "\n",
    "print('train_auc:', roc_auc_score(y_train, pipeline.predict_proba(X_train)[:, 1]))\n",
    "print('test_auc:',  roc_auc_score(y_test, pipeline.predict_proba(X_test)[:, 1]))\n",
    "\n",
    "# cross validation\n",
    "\n",
    "#scores = cross_val_score(pipeline, X, y, scoring='roc_auc', cv=5)\n",
    "#scores = cross_validate(pipeline, X, y, scoring=['roc_auc', 'f1', 'accuracy', 'roc_auc_ovo','neg_log_loss','r2'], cv=10, return_train_score=True)"
   ]
  },
  {
   "cell_type": "code",
   "execution_count": 271,
   "metadata": {},
   "outputs": [
    {
     "data": {
      "text/plain": [
       "array([0.12286404, 0.01046227, 0.00470642, 0.01882063, 0.01650252,\n",
       "       0.        , 0.0756631 , 0.53730331, 0.0029962 , 0.00418378,\n",
       "       0.01784732, 0.00183852, 0.        , 0.0373668 , 0.14381098,\n",
       "       0.00563412])"
      ]
     },
     "execution_count": 271,
     "metadata": {},
     "output_type": "execute_result"
    }
   ],
   "source": [
    "#print(X_train.columns)\n",
    "pipeline.steps[1][1].feature_importances_"
   ]
  },
  {
   "cell_type": "code",
   "execution_count": 272,
   "metadata": {},
   "outputs": [
    {
     "data": {
      "text/plain": [
       "16"
      ]
     },
     "execution_count": 272,
     "metadata": {},
     "output_type": "execute_result"
    }
   ],
   "source": [
    "pipeline.steps[1][1].n_features_\n"
   ]
  },
  {
   "cell_type": "code",
   "execution_count": 273,
   "metadata": {},
   "outputs": [
    {
     "data": {
      "text/plain": [
       "Index(['Total_Taxable_Amount', 'Region', 'antiguedad_cuenta',\n",
       "       'tiempo_entrega_max', 'Pricing_Delivery_Terms_Approved',\n",
       "       'Pricing_Delivery_Terms_Quote_Appr', 'Bureaucratic_Code_0_Approval',\n",
       "       'Bureaucratic_Code_0_Approved', 'Submitted_for_Approval', 'Month',\n",
       "       'Product_Family', 'random_feature'],\n",
       "      dtype='object')"
      ]
     },
     "execution_count": 273,
     "metadata": {},
     "output_type": "execute_result"
    }
   ],
   "source": [
    "X_train.columns"
   ]
  },
  {
   "cell_type": "code",
   "execution_count": 274,
   "metadata": {},
   "outputs": [
    {
     "data": {
      "text/plain": [
       "16"
      ]
     },
     "execution_count": 274,
     "metadata": {},
     "output_type": "execute_result"
    }
   ],
   "source": [
    "features_list = []\n",
    "\n",
    "regions = ['APAC', 'Americas', 'EMEA', 'Japan', 'Middle East']\n",
    "features_bool = ['Pricing, Delivery_Terms_Approved', 'Pricing, Delivery_Terms_Quote_Appr',\n",
    "                    'Bureaucratic_Code_0_Approval',\n",
    "                    'Bureaucratic_Code_0_Approved','Submitted_for_Approval']\n",
    "\n",
    "features_list.append('Total_Taxable_Amount')\n",
    "features_list = features_list + regions\n",
    "features_list = features_list + ['antiguedad_cuenta', 'tiempo_entrega_max']\n",
    "features_list = features_list + features_bool\n",
    "features_list.append('Month')\n",
    "features_list.append('Product_Family')\n",
    "features_list.append('random_feature')\n",
    "\n",
    "len(features_list)\n",
    "\n"
   ]
  },
  {
   "cell_type": "code",
   "execution_count": 275,
   "metadata": {},
   "outputs": [
    {
     "data": {
      "image/png": "[encoded data removed]",
      "text/plain": [
       "<Figure size 432x288 with 1 Axes>"
      ]
     },
     "metadata": {
      "needs_background": "light"
     },
     "output_type": "display_data"
    }
   ],
   "source": [
    "plt.bar(features_list, pipeline.steps[1][1].feature_importances_)\n",
    "plt.xlabel('Features')\n",
    "plt.xticks(rotation='vertical')\n",
    "plt.ylabel('Importancia')\n",
    "plt.title('Importancia Features con unico Arbol')\n",
    "plt.show()"
   ]
  }
 ],
 "metadata": {
  "kernelspec": {
   "display_name": "7506-Organizacion-de-Datos",
   "language": "python",
   "name": "7506-organizacion-de-datos"
  },
  "language_info": {
   "codemirror_mode": {
    "name": "ipython",
    "version": 3
   },
   "file_extension": ".py",
   "mimetype": "text/x-python",
   "name": "python",
   "nbconvert_exporter": "python",
   "pygments_lexer": "ipython3",
   "version": "3.6.9"
  }
 },
 "nbformat": 4,
 "nbformat_minor": 2
}
