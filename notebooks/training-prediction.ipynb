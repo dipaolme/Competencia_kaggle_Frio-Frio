{
 "cells": [
  {
   "cell_type": "code",
   "execution_count": 1,
   "metadata": {},
   "outputs": [],
   "source": [
    "# Path de trabajo\n",
    "WORK_DIR = '/home/dipa/proyectos/7506-Organizacion-de-Datos/tp_2'"
   ]
  },
  {
   "cell_type": "code",
   "execution_count": 2,
   "metadata": {},
   "outputs": [],
   "source": [
    "import sys\n",
    "sys.path.append(WORK_DIR)\n",
    "#sys.path.append('/home/dipa/proyectos/7506-Organizacion-de-Datos/tp_2')\n",
    "\n",
    "import os\n",
    "import pandas as pd\n",
    "#import numpy as np\n",
    "\n",
    "from lib.transform import transform_data\n",
    "from lib import prepare_data\n",
    "from lib import model_data\n"
   ]
  },
  {
   "cell_type": "markdown",
   "metadata": {},
   "source": [
    "### Nota: \n",
    "\n",
    "* Primero se tiene que cargar y procesar los datos de entrenamiento y se entrena el modelo\n",
    "\n",
    "* Luego se cargan y procesan los datos del test y se hace la prediccion "
   ]
  },
  {
   "cell_type": "code",
   "execution_count": null,
   "metadata": {},
   "outputs": [],
   "source": [
    "# Train"
   ]
  },
  {
   "cell_type": "markdown",
   "metadata": {},
   "source": [
    "### 1. Cargamos los datos"
   ]
  },
  {
   "cell_type": "code",
   "execution_count": 3,
   "metadata": {},
   "outputs": [],
   "source": [
    "### Se carga el file correspondiente\n",
    "train = 'data/Entrenamieto_ECI_2020.csv'\n",
    "\n",
    "df = prepare_data.load(os.path.join(WORK_DIR, train))"
   ]
  },
  {
   "cell_type": "markdown",
   "metadata": {},
   "source": [
    "### 2. Procesamos los datos\n",
    "\n",
    "* Si queremos entrenar el modelo Train = True\n",
    "* Si queremos predecir sobre el test set Train False"
   ]
  },
  {
   "cell_type": "code",
   "execution_count": 4,
   "metadata": {},
   "outputs": [
    {
     "data": {
      "text/plain": [
       "(9841, 7)"
      ]
     },
     "execution_count": 4,
     "metadata": {},
     "output_type": "execute_result"
    }
   ],
   "source": [
    "# Procesamos el dataframe cargado en el punto 1\n",
    "\n",
    "procesed_data = prepare_data.process(df, train=True) # Se genera el archivo 'train_prepared.csv'\n",
    "\n",
    "procesed_data.shape"
   ]
  },
  {
   "cell_type": "code",
   "execution_count": 5,
   "metadata": {},
   "outputs": [
    {
     "data": {
      "text/plain": [
       "(9841, 13)"
      ]
     },
     "execution_count": 5,
     "metadata": {},
     "output_type": "execute_result"
    }
   ],
   "source": [
    "# Chequqeamos las dimensiones y catidad de variables del train y test\n",
    "\n",
    "procesed_data.shape\n",
    "#Train (9841, 12)\n",
    "# Tests (1567, 11) no tiene la variable Target"
   ]
  },
  {
   "cell_type": "markdown",
   "metadata": {},
   "source": [
    "### 3A : Entrenamos"
   ]
  },
  {
   "cell_type": "code",
   "execution_count": 5,
   "metadata": {},
   "outputs": [
    {
     "name": "stderr",
     "output_type": "stream",
     "text": [
      "/home/dipa/proyectos/7506-Organizacion-de-Datos/lib/python3.6/site-packages/sklearn/preprocessing/_discretization.py:202: UserWarning: Bins whose width are too small (i.e., <= 1e-8) in feature 0 are removed. Consider decreasing the number of bins.\n",
      "  'decreasing the number of bins.' % jj)\n"
     ]
    },
    {
     "data": {
      "text/plain": [
       "Pipeline(steps=[('ct',\n",
       "                 ColumnTransformer(remainder='passthrough',\n",
       "                                   transformers=[('total_Taxable_Amount',\n",
       "                                                  FunctionTransformer(func=<ufunc 'log10'>,\n",
       "                                                                      validate=True),\n",
       "                                                  [0]),\n",
       "                                                 ('binning',\n",
       "                                                  KBinsDiscretizer(encode='ordinal',\n",
       "                                                                   n_bins=20),\n",
       "                                                  [1, 2])])),\n",
       "                ('rf_clf',\n",
       "                 RandomForestClassifier(max_depth=10, max_features=4,\n",
       "                                        min_samples_split=10,\n",
       "                                        random_state=1))])"
      ]
     },
     "execution_count": 5,
     "metadata": {},
     "output_type": "execute_result"
    }
   ],
   "source": [
    "#  Cargamos el archivo generado en el punto 2\n",
    "\n",
    "df = pd.read_csv('/home/dipa/proyectos/7506-Organizacion-de-Datos/tp_2/data/train_prepared.csv', index_col=0)\n",
    "\n",
    "# Entrenamos \n",
    "model_data.train(df) # genera el modelo y lo guarda en carpeta models\n"
   ]
  },
  {
   "cell_type": "markdown",
   "metadata": {},
   "source": [
    "### 3B : Predecimos"
   ]
  },
  {
   "cell_type": "markdown",
   "metadata": {},
   "source": [
    "#### Nota: antes de hacer la prediccion chquear que se genero el test set ya procesado  (pasos 1 y 2)"
   ]
  },
  {
   "cell_type": "code",
   "execution_count": 6,
   "metadata": {},
   "outputs": [],
   "source": [
    "\n",
    "### Se carga el file correspondiente\n",
    "test = 'data/Test_TP2_Datos_2020-2C.csv'\n",
    "\n",
    "df = prepare_data.load(os.path.join(WORK_DIR, test))"
   ]
  },
  {
   "cell_type": "code",
   "execution_count": 7,
   "metadata": {},
   "outputs": [
    {
     "data": {
      "text/plain": [
       "(1567, 6)"
      ]
     },
     "execution_count": 7,
     "metadata": {},
     "output_type": "execute_result"
    }
   ],
   "source": [
    "# Procesamos el dataframe cargado en el punto 1\n",
    "\n",
    "procesed_data = prepare_data.process(df, train=False)   # Se genera el archivo 'train_prepared.csv'  o \n",
    "                                                        #'test_prepared.cvs' y se guarda en carpeta data\n",
    "procesed_data.shape"
   ]
  },
  {
   "cell_type": "code",
   "execution_count": 8,
   "metadata": {},
   "outputs": [
    {
     "data": {
      "text/html": [
       "<div>\n",
       "<style scoped>\n",
       "    .dataframe tbody tr th:only-of-type {\n",
       "        vertical-align: middle;\n",
       "    }\n",
       "\n",
       "    .dataframe tbody tr th {\n",
       "        vertical-align: top;\n",
       "    }\n",
       "\n",
       "    .dataframe thead th {\n",
       "        text-align: right;\n",
       "    }\n",
       "</style>\n",
       "<table border=\"1\" class=\"dataframe\">\n",
       "  <thead>\n",
       "    <tr style=\"text-align: right;\">\n",
       "      <th></th>\n",
       "      <th>Opportunity_ID</th>\n",
       "      <th>Target</th>\n",
       "    </tr>\n",
       "  </thead>\n",
       "  <tbody>\n",
       "    <tr>\n",
       "      <th>0</th>\n",
       "      <td>10689</td>\n",
       "      <td>0.527006</td>\n",
       "    </tr>\n",
       "    <tr>\n",
       "      <th>1</th>\n",
       "      <td>10690</td>\n",
       "      <td>0.407580</td>\n",
       "    </tr>\n",
       "    <tr>\n",
       "      <th>2</th>\n",
       "      <td>10691</td>\n",
       "      <td>0.530472</td>\n",
       "    </tr>\n",
       "    <tr>\n",
       "      <th>3</th>\n",
       "      <td>10692</td>\n",
       "      <td>0.330844</td>\n",
       "    </tr>\n",
       "    <tr>\n",
       "      <th>4</th>\n",
       "      <td>10693</td>\n",
       "      <td>0.910843</td>\n",
       "    </tr>\n",
       "    <tr>\n",
       "      <th>...</th>\n",
       "      <td>...</td>\n",
       "      <td>...</td>\n",
       "    </tr>\n",
       "    <tr>\n",
       "      <th>1562</th>\n",
       "      <td>12364</td>\n",
       "      <td>0.932192</td>\n",
       "    </tr>\n",
       "    <tr>\n",
       "      <th>1563</th>\n",
       "      <td>12365</td>\n",
       "      <td>0.520019</td>\n",
       "    </tr>\n",
       "    <tr>\n",
       "      <th>1564</th>\n",
       "      <td>12366</td>\n",
       "      <td>0.617312</td>\n",
       "    </tr>\n",
       "    <tr>\n",
       "      <th>1565</th>\n",
       "      <td>12367</td>\n",
       "      <td>0.362623</td>\n",
       "    </tr>\n",
       "    <tr>\n",
       "      <th>1566</th>\n",
       "      <td>12368</td>\n",
       "      <td>0.163817</td>\n",
       "    </tr>\n",
       "  </tbody>\n",
       "</table>\n",
       "<p>1567 rows × 2 columns</p>\n",
       "</div>"
      ],
      "text/plain": [
       "      Opportunity_ID    Target\n",
       "0              10689  0.527006\n",
       "1              10690  0.407580\n",
       "2              10691  0.530472\n",
       "3              10692  0.330844\n",
       "4              10693  0.910843\n",
       "...              ...       ...\n",
       "1562           12364  0.932192\n",
       "1563           12365  0.520019\n",
       "1564           12366  0.617312\n",
       "1565           12367  0.362623\n",
       "1566           12368  0.163817\n",
       "\n",
       "[1567 rows x 2 columns]"
      ]
     },
     "execution_count": 8,
     "metadata": {},
     "output_type": "execute_result"
    }
   ],
   "source": [
    "# predict Test data\n",
    "\n",
    "df = pd.read_csv('/home/dipa/proyectos/7506-Organizacion-de-Datos/tp_2/data/test_prepared.csv', index_col=0)\n",
    "\n",
    "model_data.predict(df) # se general el archivo results"
   ]
  }
 ],
 "metadata": {
  "kernelspec": {
   "display_name": "7506-Organizacion-de-Datos",
   "language": "python",
   "name": "7506-organizacion-de-datos"
  },
  "language_info": {
   "codemirror_mode": {
    "name": "ipython",
    "version": 3
   },
   "file_extension": ".py",
   "mimetype": "text/x-python",
   "name": "python",
   "nbconvert_exporter": "python",
   "pygments_lexer": "ipython3",
   "version": "3.6.9"
  }
 },
 "nbformat": 4,
 "nbformat_minor": 2
}
